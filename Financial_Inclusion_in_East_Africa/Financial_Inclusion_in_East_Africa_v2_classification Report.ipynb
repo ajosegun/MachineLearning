{
  "nbformat": 4,
  "nbformat_minor": 0,
  "metadata": {
    "colab": {
      "name": "Financial Inclusion in East Africa v2.ipynb",
      "provenance": [],
      "collapsed_sections": [
        "E5TghPFss2w8"
      ]
    },
    "kernelspec": {
      "name": "python3",
      "display_name": "Python 3"
    },
    "language_info": {
      "name": "python"
    }
  },
  "cells": [
    {
      "cell_type": "markdown",
      "source": [
        "\n",
        "Financial inclusion remains one of the main obstacles to economic and human development in Africa. For example, across Kenya, Rwanda, Tanzania, and Uganda only 9.1 million adults (or 14% of adults) have access to or use a commercial bank account.\n",
        "\n",
        "The objective of this competition is to create a machine learning model to predict which individuals are most likely to have or use a bank account. The models and solutions developed can provide an indication of the state of financial inclusion in Kenya, Rwanda, Tanzania and Uganda, while providing insights into some of the key factors driving individuals’ financial security.\n",
        "\n",
        "Source: https://zindi.africa/competitions/financial-inclusion-in-africa"
      ],
      "metadata": {
        "id": "kwSrg6YInhR9"
      }
    },
    {
      "cell_type": "markdown",
      "source": [
        "# 1 Import relevant dataset and libraries"
      ],
      "metadata": {
        "id": "AO1Gv5ydl91x"
      }
    },
    {
      "cell_type": "code",
      "source": [
        "# Importing relevant python libraries\n",
        "\n",
        "import pandas as pd\n",
        "import numpy as np\n",
        "import seaborn as sns\n",
        "import matplotlib.pyplot as plt\n",
        "\n",
        "import warnings\n",
        "warnings.filterwarnings(\"ignore\")\n"
      ],
      "metadata": {
        "id": "NjABRx4eneq-"
      },
      "execution_count": null,
      "outputs": []
    },
    {
      "cell_type": "code",
      "source": [
        "# Loading the dataset\n",
        "\n",
        "df = pd.read_csv('Dataset.csv')"
      ],
      "metadata": {
        "id": "x3P66OmCneo0"
      },
      "execution_count": null,
      "outputs": []
    },
    {
      "cell_type": "markdown",
      "source": [
        "## Becoming one with the data"
      ],
      "metadata": {
        "id": "Gx6Atb8MoAHi"
      }
    },
    {
      "cell_type": "code",
      "source": [
        "# Previewing a sample of the dataset\n",
        "\n",
        "df.sample(n=10)"
      ],
      "metadata": {
        "colab": {
          "base_uri": "https://localhost:8080/",
          "height": 618
        },
        "id": "5OzGQvCMnekp",
        "outputId": "31d1216f-0446-4be4-8223-bcb1fb95a803"
      },
      "execution_count": null,
      "outputs": [
        {
          "output_type": "execute_result",
          "data": {
            "text/plain": [
              "        country  year       uniqueid bank_account location_type  \\\n",
              "18608  Tanzania  2017  uniqueid_3806           No         Rural   \n",
              "15159  Tanzania  2017   uniqueid_357           No         Urban   \n",
              "14061    Rwanda  2016  uniqueid_7994           No         Urban   \n",
              "12390    Rwanda  2016  uniqueid_6323           No         Rural   \n",
              "5182      Kenya  2018  uniqueid_5183           No         Rural   \n",
              "15162  Tanzania  2017   uniqueid_360           No         Urban   \n",
              "1157      Kenya  2018  uniqueid_1158           No         Urban   \n",
              "21427    Uganda  2018     uniqueid_5           No         Urban   \n",
              "19281  Tanzania  2017  uniqueid_4479           No         Urban   \n",
              "8583     Rwanda  2016  uniqueid_2516           No         Rural   \n",
              "\n",
              "      cellphone_access  household_size  age_of_respondent  \\\n",
              "18608              Yes               3                 20   \n",
              "15159              Yes               2                 31   \n",
              "14061              Yes               4                 28   \n",
              "12390              Yes               2                 67   \n",
              "5182               Yes               9                 17   \n",
              "15162               No               2                 25   \n",
              "1157               Yes               4                 20   \n",
              "21427              Yes               9                 18   \n",
              "19281              Yes               1                 32   \n",
              "8583               Yes               2                 66   \n",
              "\n",
              "      gender_of_respondent relationship_with_head           marital_status  \\\n",
              "18608                 Male         Other relative       Divorced/Seperated   \n",
              "15159               Female                 Spouse     Single/Never Married   \n",
              "14061               Female                 Spouse  Married/Living together   \n",
              "12390               Female      Head of Household                  Widowed   \n",
              "5182                Female                  Child     Single/Never Married   \n",
              "15162               Female                 Spouse     Single/Never Married   \n",
              "1157                  Male                  Child     Single/Never Married   \n",
              "21427               Female                 Parent     Single/Never Married   \n",
              "19281               Female      Head of Household  Married/Living together   \n",
              "8583                  Male      Head of Household  Married/Living together   \n",
              "\n",
              "                       education_level              job_type  \n",
              "18608               Tertiary education  Remittance Dependent  \n",
              "15159                Primary education   Informally employed  \n",
              "14061                Primary education   Informally employed  \n",
              "12390              No formal education  Remittance Dependent  \n",
              "5182               Secondary education  Remittance Dependent  \n",
              "15162                Primary education   Informally employed  \n",
              "1157   Vocational/Specialised training         Self employed  \n",
              "21427              Secondary education          Other Income  \n",
              "19281                Primary education         Self employed  \n",
              "8583               No formal education   Farming and Fishing  "
            ],
            "text/html": [
              "\n",
              "  <div id=\"df-6a3213e7-e22d-43d8-8cf2-cfe58d3c7364\">\n",
              "    <div class=\"colab-df-container\">\n",
              "      <div>\n",
              "<style scoped>\n",
              "    .dataframe tbody tr th:only-of-type {\n",
              "        vertical-align: middle;\n",
              "    }\n",
              "\n",
              "    .dataframe tbody tr th {\n",
              "        vertical-align: top;\n",
              "    }\n",
              "\n",
              "    .dataframe thead th {\n",
              "        text-align: right;\n",
              "    }\n",
              "</style>\n",
              "<table border=\"1\" class=\"dataframe\">\n",
              "  <thead>\n",
              "    <tr style=\"text-align: right;\">\n",
              "      <th></th>\n",
              "      <th>country</th>\n",
              "      <th>year</th>\n",
              "      <th>uniqueid</th>\n",
              "      <th>bank_account</th>\n",
              "      <th>location_type</th>\n",
              "      <th>cellphone_access</th>\n",
              "      <th>household_size</th>\n",
              "      <th>age_of_respondent</th>\n",
              "      <th>gender_of_respondent</th>\n",
              "      <th>relationship_with_head</th>\n",
              "      <th>marital_status</th>\n",
              "      <th>education_level</th>\n",
              "      <th>job_type</th>\n",
              "    </tr>\n",
              "  </thead>\n",
              "  <tbody>\n",
              "    <tr>\n",
              "      <th>18608</th>\n",
              "      <td>Tanzania</td>\n",
              "      <td>2017</td>\n",
              "      <td>uniqueid_3806</td>\n",
              "      <td>No</td>\n",
              "      <td>Rural</td>\n",
              "      <td>Yes</td>\n",
              "      <td>3</td>\n",
              "      <td>20</td>\n",
              "      <td>Male</td>\n",
              "      <td>Other relative</td>\n",
              "      <td>Divorced/Seperated</td>\n",
              "      <td>Tertiary education</td>\n",
              "      <td>Remittance Dependent</td>\n",
              "    </tr>\n",
              "    <tr>\n",
              "      <th>15159</th>\n",
              "      <td>Tanzania</td>\n",
              "      <td>2017</td>\n",
              "      <td>uniqueid_357</td>\n",
              "      <td>No</td>\n",
              "      <td>Urban</td>\n",
              "      <td>Yes</td>\n",
              "      <td>2</td>\n",
              "      <td>31</td>\n",
              "      <td>Female</td>\n",
              "      <td>Spouse</td>\n",
              "      <td>Single/Never Married</td>\n",
              "      <td>Primary education</td>\n",
              "      <td>Informally employed</td>\n",
              "    </tr>\n",
              "    <tr>\n",
              "      <th>14061</th>\n",
              "      <td>Rwanda</td>\n",
              "      <td>2016</td>\n",
              "      <td>uniqueid_7994</td>\n",
              "      <td>No</td>\n",
              "      <td>Urban</td>\n",
              "      <td>Yes</td>\n",
              "      <td>4</td>\n",
              "      <td>28</td>\n",
              "      <td>Female</td>\n",
              "      <td>Spouse</td>\n",
              "      <td>Married/Living together</td>\n",
              "      <td>Primary education</td>\n",
              "      <td>Informally employed</td>\n",
              "    </tr>\n",
              "    <tr>\n",
              "      <th>12390</th>\n",
              "      <td>Rwanda</td>\n",
              "      <td>2016</td>\n",
              "      <td>uniqueid_6323</td>\n",
              "      <td>No</td>\n",
              "      <td>Rural</td>\n",
              "      <td>Yes</td>\n",
              "      <td>2</td>\n",
              "      <td>67</td>\n",
              "      <td>Female</td>\n",
              "      <td>Head of Household</td>\n",
              "      <td>Widowed</td>\n",
              "      <td>No formal education</td>\n",
              "      <td>Remittance Dependent</td>\n",
              "    </tr>\n",
              "    <tr>\n",
              "      <th>5182</th>\n",
              "      <td>Kenya</td>\n",
              "      <td>2018</td>\n",
              "      <td>uniqueid_5183</td>\n",
              "      <td>No</td>\n",
              "      <td>Rural</td>\n",
              "      <td>Yes</td>\n",
              "      <td>9</td>\n",
              "      <td>17</td>\n",
              "      <td>Female</td>\n",
              "      <td>Child</td>\n",
              "      <td>Single/Never Married</td>\n",
              "      <td>Secondary education</td>\n",
              "      <td>Remittance Dependent</td>\n",
              "    </tr>\n",
              "    <tr>\n",
              "      <th>15162</th>\n",
              "      <td>Tanzania</td>\n",
              "      <td>2017</td>\n",
              "      <td>uniqueid_360</td>\n",
              "      <td>No</td>\n",
              "      <td>Urban</td>\n",
              "      <td>No</td>\n",
              "      <td>2</td>\n",
              "      <td>25</td>\n",
              "      <td>Female</td>\n",
              "      <td>Spouse</td>\n",
              "      <td>Single/Never Married</td>\n",
              "      <td>Primary education</td>\n",
              "      <td>Informally employed</td>\n",
              "    </tr>\n",
              "    <tr>\n",
              "      <th>1157</th>\n",
              "      <td>Kenya</td>\n",
              "      <td>2018</td>\n",
              "      <td>uniqueid_1158</td>\n",
              "      <td>No</td>\n",
              "      <td>Urban</td>\n",
              "      <td>Yes</td>\n",
              "      <td>4</td>\n",
              "      <td>20</td>\n",
              "      <td>Male</td>\n",
              "      <td>Child</td>\n",
              "      <td>Single/Never Married</td>\n",
              "      <td>Vocational/Specialised training</td>\n",
              "      <td>Self employed</td>\n",
              "    </tr>\n",
              "    <tr>\n",
              "      <th>21427</th>\n",
              "      <td>Uganda</td>\n",
              "      <td>2018</td>\n",
              "      <td>uniqueid_5</td>\n",
              "      <td>No</td>\n",
              "      <td>Urban</td>\n",
              "      <td>Yes</td>\n",
              "      <td>9</td>\n",
              "      <td>18</td>\n",
              "      <td>Female</td>\n",
              "      <td>Parent</td>\n",
              "      <td>Single/Never Married</td>\n",
              "      <td>Secondary education</td>\n",
              "      <td>Other Income</td>\n",
              "    </tr>\n",
              "    <tr>\n",
              "      <th>19281</th>\n",
              "      <td>Tanzania</td>\n",
              "      <td>2017</td>\n",
              "      <td>uniqueid_4479</td>\n",
              "      <td>No</td>\n",
              "      <td>Urban</td>\n",
              "      <td>Yes</td>\n",
              "      <td>1</td>\n",
              "      <td>32</td>\n",
              "      <td>Female</td>\n",
              "      <td>Head of Household</td>\n",
              "      <td>Married/Living together</td>\n",
              "      <td>Primary education</td>\n",
              "      <td>Self employed</td>\n",
              "    </tr>\n",
              "    <tr>\n",
              "      <th>8583</th>\n",
              "      <td>Rwanda</td>\n",
              "      <td>2016</td>\n",
              "      <td>uniqueid_2516</td>\n",
              "      <td>No</td>\n",
              "      <td>Rural</td>\n",
              "      <td>Yes</td>\n",
              "      <td>2</td>\n",
              "      <td>66</td>\n",
              "      <td>Male</td>\n",
              "      <td>Head of Household</td>\n",
              "      <td>Married/Living together</td>\n",
              "      <td>No formal education</td>\n",
              "      <td>Farming and Fishing</td>\n",
              "    </tr>\n",
              "  </tbody>\n",
              "</table>\n",
              "</div>\n",
              "      <button class=\"colab-df-convert\" onclick=\"convertToInteractive('df-6a3213e7-e22d-43d8-8cf2-cfe58d3c7364')\"\n",
              "              title=\"Convert this dataframe to an interactive table.\"\n",
              "              style=\"display:none;\">\n",
              "        \n",
              "  <svg xmlns=\"http://www.w3.org/2000/svg\" height=\"24px\"viewBox=\"0 0 24 24\"\n",
              "       width=\"24px\">\n",
              "    <path d=\"M0 0h24v24H0V0z\" fill=\"none\"/>\n",
              "    <path d=\"M18.56 5.44l.94 2.06.94-2.06 2.06-.94-2.06-.94-.94-2.06-.94 2.06-2.06.94zm-11 1L8.5 8.5l.94-2.06 2.06-.94-2.06-.94L8.5 2.5l-.94 2.06-2.06.94zm10 10l.94 2.06.94-2.06 2.06-.94-2.06-.94-.94-2.06-.94 2.06-2.06.94z\"/><path d=\"M17.41 7.96l-1.37-1.37c-.4-.4-.92-.59-1.43-.59-.52 0-1.04.2-1.43.59L10.3 9.45l-7.72 7.72c-.78.78-.78 2.05 0 2.83L4 21.41c.39.39.9.59 1.41.59.51 0 1.02-.2 1.41-.59l7.78-7.78 2.81-2.81c.8-.78.8-2.07 0-2.86zM5.41 20L4 18.59l7.72-7.72 1.47 1.35L5.41 20z\"/>\n",
              "  </svg>\n",
              "      </button>\n",
              "      \n",
              "  <style>\n",
              "    .colab-df-container {\n",
              "      display:flex;\n",
              "      flex-wrap:wrap;\n",
              "      gap: 12px;\n",
              "    }\n",
              "\n",
              "    .colab-df-convert {\n",
              "      background-color: #E8F0FE;\n",
              "      border: none;\n",
              "      border-radius: 50%;\n",
              "      cursor: pointer;\n",
              "      display: none;\n",
              "      fill: #1967D2;\n",
              "      height: 32px;\n",
              "      padding: 0 0 0 0;\n",
              "      width: 32px;\n",
              "    }\n",
              "\n",
              "    .colab-df-convert:hover {\n",
              "      background-color: #E2EBFA;\n",
              "      box-shadow: 0px 1px 2px rgba(60, 64, 67, 0.3), 0px 1px 3px 1px rgba(60, 64, 67, 0.15);\n",
              "      fill: #174EA6;\n",
              "    }\n",
              "\n",
              "    [theme=dark] .colab-df-convert {\n",
              "      background-color: #3B4455;\n",
              "      fill: #D2E3FC;\n",
              "    }\n",
              "\n",
              "    [theme=dark] .colab-df-convert:hover {\n",
              "      background-color: #434B5C;\n",
              "      box-shadow: 0px 1px 3px 1px rgba(0, 0, 0, 0.15);\n",
              "      filter: drop-shadow(0px 1px 2px rgba(0, 0, 0, 0.3));\n",
              "      fill: #FFFFFF;\n",
              "    }\n",
              "  </style>\n",
              "\n",
              "      <script>\n",
              "        const buttonEl =\n",
              "          document.querySelector('#df-6a3213e7-e22d-43d8-8cf2-cfe58d3c7364 button.colab-df-convert');\n",
              "        buttonEl.style.display =\n",
              "          google.colab.kernel.accessAllowed ? 'block' : 'none';\n",
              "\n",
              "        async function convertToInteractive(key) {\n",
              "          const element = document.querySelector('#df-6a3213e7-e22d-43d8-8cf2-cfe58d3c7364');\n",
              "          const dataTable =\n",
              "            await google.colab.kernel.invokeFunction('convertToInteractive',\n",
              "                                                     [key], {});\n",
              "          if (!dataTable) return;\n",
              "\n",
              "          const docLinkHtml = 'Like what you see? Visit the ' +\n",
              "            '<a target=\"_blank\" href=https://colab.research.google.com/notebooks/data_table.ipynb>data table notebook</a>'\n",
              "            + ' to learn more about interactive tables.';\n",
              "          element.innerHTML = '';\n",
              "          dataTable['output_type'] = 'display_data';\n",
              "          await google.colab.output.renderOutput(dataTable, element);\n",
              "          const docLink = document.createElement('div');\n",
              "          docLink.innerHTML = docLinkHtml;\n",
              "          element.appendChild(docLink);\n",
              "        }\n",
              "      </script>\n",
              "    </div>\n",
              "  </div>\n",
              "  "
            ]
          },
          "metadata": {},
          "execution_count": 3
        }
      ]
    },
    {
      "cell_type": "code",
      "source": [
        "# Determining the number of records in the dataset\n",
        "\n",
        "df.shape"
      ],
      "metadata": {
        "colab": {
          "base_uri": "https://localhost:8080/"
        },
        "id": "nq9-JCTineiX",
        "outputId": "5cb23328-b268-43df-8d5a-351e778a9907"
      },
      "execution_count": null,
      "outputs": [
        {
          "output_type": "execute_result",
          "data": {
            "text/plain": [
              "(23524, 13)"
            ]
          },
          "metadata": {},
          "execution_count": 4
        }
      ]
    },
    {
      "cell_type": "code",
      "source": [
        "# Checking whether each column has an appropriate datatype\n",
        "\n",
        "df.dtypes"
      ],
      "metadata": {
        "colab": {
          "base_uri": "https://localhost:8080/"
        },
        "id": "tpSRksh6negW",
        "outputId": "82b7a56b-8c1a-4556-fb63-943e28408422"
      },
      "execution_count": null,
      "outputs": [
        {
          "output_type": "execute_result",
          "data": {
            "text/plain": [
              "country                   object\n",
              "year                       int64\n",
              "uniqueid                  object\n",
              "bank_account              object\n",
              "location_type             object\n",
              "cellphone_access          object\n",
              "household_size             int64\n",
              "age_of_respondent          int64\n",
              "gender_of_respondent      object\n",
              "relationship_with_head    object\n",
              "marital_status            object\n",
              "education_level           object\n",
              "job_type                  object\n",
              "dtype: object"
            ]
          },
          "metadata": {},
          "execution_count": 5
        }
      ]
    },
    {
      "cell_type": "code",
      "source": [
        "# Checking the number of unique records in each column\n",
        "\n",
        "df.nunique()"
      ],
      "metadata": {
        "colab": {
          "base_uri": "https://localhost:8080/"
        },
        "id": "8vs-E2opneeV",
        "outputId": "cb90a037-d320-4211-ab0d-ba3a420f8f63"
      },
      "execution_count": null,
      "outputs": [
        {
          "output_type": "execute_result",
          "data": {
            "text/plain": [
              "country                      4\n",
              "year                         3\n",
              "uniqueid                  8735\n",
              "bank_account                 2\n",
              "location_type                2\n",
              "cellphone_access             2\n",
              "household_size              20\n",
              "age_of_respondent           85\n",
              "gender_of_respondent         2\n",
              "relationship_with_head       6\n",
              "marital_status               5\n",
              "education_level              6\n",
              "job_type                    10\n",
              "dtype: int64"
            ]
          },
          "metadata": {},
          "execution_count": 6
        }
      ]
    },
    {
      "cell_type": "code",
      "source": [
        "# Checking for null values\n",
        "\n",
        "df.info()"
      ],
      "metadata": {
        "colab": {
          "base_uri": "https://localhost:8080/"
        },
        "id": "Cl2boVvpnecv",
        "outputId": "ab40ab4d-d659-49c6-d422-7ca53fdf4d9f"
      },
      "execution_count": null,
      "outputs": [
        {
          "output_type": "stream",
          "name": "stdout",
          "text": [
            "<class 'pandas.core.frame.DataFrame'>\n",
            "RangeIndex: 23524 entries, 0 to 23523\n",
            "Data columns (total 13 columns):\n",
            " #   Column                  Non-Null Count  Dtype \n",
            "---  ------                  --------------  ----- \n",
            " 0   country                 23524 non-null  object\n",
            " 1   year                    23524 non-null  int64 \n",
            " 2   uniqueid                23524 non-null  object\n",
            " 3   bank_account            23524 non-null  object\n",
            " 4   location_type           23524 non-null  object\n",
            " 5   cellphone_access        23524 non-null  object\n",
            " 6   household_size          23524 non-null  int64 \n",
            " 7   age_of_respondent       23524 non-null  int64 \n",
            " 8   gender_of_respondent    23524 non-null  object\n",
            " 9   relationship_with_head  23524 non-null  object\n",
            " 10  marital_status          23524 non-null  object\n",
            " 11  education_level         23524 non-null  object\n",
            " 12  job_type                23524 non-null  object\n",
            "dtypes: int64(3), object(10)\n",
            "memory usage: 2.3+ MB\n"
          ]
        }
      ]
    },
    {
      "cell_type": "code",
      "source": [
        "# Getting a summary of the data\n",
        "\n",
        "df.describe()"
      ],
      "metadata": {
        "colab": {
          "base_uri": "https://localhost:8080/",
          "height": 300
        },
        "id": "G4LxTYp6neZ9",
        "outputId": "80c3bd7e-de9f-4d3f-e8ea-687a940513c3"
      },
      "execution_count": null,
      "outputs": [
        {
          "output_type": "execute_result",
          "data": {
            "text/plain": [
              "               year  household_size  age_of_respondent\n",
              "count  23524.000000    23524.000000       23524.000000\n",
              "mean    2016.975939        3.797483          38.805220\n",
              "std        0.847371        2.227613          16.520569\n",
              "min     2016.000000        1.000000          16.000000\n",
              "25%     2016.000000        2.000000          26.000000\n",
              "50%     2017.000000        3.000000          35.000000\n",
              "75%     2018.000000        5.000000          49.000000\n",
              "max     2018.000000       21.000000         100.000000"
            ],
            "text/html": [
              "\n",
              "  <div id=\"df-e10ad827-98b8-40ad-95d7-f12abdc0a95e\">\n",
              "    <div class=\"colab-df-container\">\n",
              "      <div>\n",
              "<style scoped>\n",
              "    .dataframe tbody tr th:only-of-type {\n",
              "        vertical-align: middle;\n",
              "    }\n",
              "\n",
              "    .dataframe tbody tr th {\n",
              "        vertical-align: top;\n",
              "    }\n",
              "\n",
              "    .dataframe thead th {\n",
              "        text-align: right;\n",
              "    }\n",
              "</style>\n",
              "<table border=\"1\" class=\"dataframe\">\n",
              "  <thead>\n",
              "    <tr style=\"text-align: right;\">\n",
              "      <th></th>\n",
              "      <th>year</th>\n",
              "      <th>household_size</th>\n",
              "      <th>age_of_respondent</th>\n",
              "    </tr>\n",
              "  </thead>\n",
              "  <tbody>\n",
              "    <tr>\n",
              "      <th>count</th>\n",
              "      <td>23524.000000</td>\n",
              "      <td>23524.000000</td>\n",
              "      <td>23524.000000</td>\n",
              "    </tr>\n",
              "    <tr>\n",
              "      <th>mean</th>\n",
              "      <td>2016.975939</td>\n",
              "      <td>3.797483</td>\n",
              "      <td>38.805220</td>\n",
              "    </tr>\n",
              "    <tr>\n",
              "      <th>std</th>\n",
              "      <td>0.847371</td>\n",
              "      <td>2.227613</td>\n",
              "      <td>16.520569</td>\n",
              "    </tr>\n",
              "    <tr>\n",
              "      <th>min</th>\n",
              "      <td>2016.000000</td>\n",
              "      <td>1.000000</td>\n",
              "      <td>16.000000</td>\n",
              "    </tr>\n",
              "    <tr>\n",
              "      <th>25%</th>\n",
              "      <td>2016.000000</td>\n",
              "      <td>2.000000</td>\n",
              "      <td>26.000000</td>\n",
              "    </tr>\n",
              "    <tr>\n",
              "      <th>50%</th>\n",
              "      <td>2017.000000</td>\n",
              "      <td>3.000000</td>\n",
              "      <td>35.000000</td>\n",
              "    </tr>\n",
              "    <tr>\n",
              "      <th>75%</th>\n",
              "      <td>2018.000000</td>\n",
              "      <td>5.000000</td>\n",
              "      <td>49.000000</td>\n",
              "    </tr>\n",
              "    <tr>\n",
              "      <th>max</th>\n",
              "      <td>2018.000000</td>\n",
              "      <td>21.000000</td>\n",
              "      <td>100.000000</td>\n",
              "    </tr>\n",
              "  </tbody>\n",
              "</table>\n",
              "</div>\n",
              "      <button class=\"colab-df-convert\" onclick=\"convertToInteractive('df-e10ad827-98b8-40ad-95d7-f12abdc0a95e')\"\n",
              "              title=\"Convert this dataframe to an interactive table.\"\n",
              "              style=\"display:none;\">\n",
              "        \n",
              "  <svg xmlns=\"http://www.w3.org/2000/svg\" height=\"24px\"viewBox=\"0 0 24 24\"\n",
              "       width=\"24px\">\n",
              "    <path d=\"M0 0h24v24H0V0z\" fill=\"none\"/>\n",
              "    <path d=\"M18.56 5.44l.94 2.06.94-2.06 2.06-.94-2.06-.94-.94-2.06-.94 2.06-2.06.94zm-11 1L8.5 8.5l.94-2.06 2.06-.94-2.06-.94L8.5 2.5l-.94 2.06-2.06.94zm10 10l.94 2.06.94-2.06 2.06-.94-2.06-.94-.94-2.06-.94 2.06-2.06.94z\"/><path d=\"M17.41 7.96l-1.37-1.37c-.4-.4-.92-.59-1.43-.59-.52 0-1.04.2-1.43.59L10.3 9.45l-7.72 7.72c-.78.78-.78 2.05 0 2.83L4 21.41c.39.39.9.59 1.41.59.51 0 1.02-.2 1.41-.59l7.78-7.78 2.81-2.81c.8-.78.8-2.07 0-2.86zM5.41 20L4 18.59l7.72-7.72 1.47 1.35L5.41 20z\"/>\n",
              "  </svg>\n",
              "      </button>\n",
              "      \n",
              "  <style>\n",
              "    .colab-df-container {\n",
              "      display:flex;\n",
              "      flex-wrap:wrap;\n",
              "      gap: 12px;\n",
              "    }\n",
              "\n",
              "    .colab-df-convert {\n",
              "      background-color: #E8F0FE;\n",
              "      border: none;\n",
              "      border-radius: 50%;\n",
              "      cursor: pointer;\n",
              "      display: none;\n",
              "      fill: #1967D2;\n",
              "      height: 32px;\n",
              "      padding: 0 0 0 0;\n",
              "      width: 32px;\n",
              "    }\n",
              "\n",
              "    .colab-df-convert:hover {\n",
              "      background-color: #E2EBFA;\n",
              "      box-shadow: 0px 1px 2px rgba(60, 64, 67, 0.3), 0px 1px 3px 1px rgba(60, 64, 67, 0.15);\n",
              "      fill: #174EA6;\n",
              "    }\n",
              "\n",
              "    [theme=dark] .colab-df-convert {\n",
              "      background-color: #3B4455;\n",
              "      fill: #D2E3FC;\n",
              "    }\n",
              "\n",
              "    [theme=dark] .colab-df-convert:hover {\n",
              "      background-color: #434B5C;\n",
              "      box-shadow: 0px 1px 3px 1px rgba(0, 0, 0, 0.15);\n",
              "      filter: drop-shadow(0px 1px 2px rgba(0, 0, 0, 0.3));\n",
              "      fill: #FFFFFF;\n",
              "    }\n",
              "  </style>\n",
              "\n",
              "      <script>\n",
              "        const buttonEl =\n",
              "          document.querySelector('#df-e10ad827-98b8-40ad-95d7-f12abdc0a95e button.colab-df-convert');\n",
              "        buttonEl.style.display =\n",
              "          google.colab.kernel.accessAllowed ? 'block' : 'none';\n",
              "\n",
              "        async function convertToInteractive(key) {\n",
              "          const element = document.querySelector('#df-e10ad827-98b8-40ad-95d7-f12abdc0a95e');\n",
              "          const dataTable =\n",
              "            await google.colab.kernel.invokeFunction('convertToInteractive',\n",
              "                                                     [key], {});\n",
              "          if (!dataTable) return;\n",
              "\n",
              "          const docLinkHtml = 'Like what you see? Visit the ' +\n",
              "            '<a target=\"_blank\" href=https://colab.research.google.com/notebooks/data_table.ipynb>data table notebook</a>'\n",
              "            + ' to learn more about interactive tables.';\n",
              "          element.innerHTML = '';\n",
              "          dataTable['output_type'] = 'display_data';\n",
              "          await google.colab.output.renderOutput(dataTable, element);\n",
              "          const docLink = document.createElement('div');\n",
              "          docLink.innerHTML = docLinkHtml;\n",
              "          element.appendChild(docLink);\n",
              "        }\n",
              "      </script>\n",
              "    </div>\n",
              "  </div>\n",
              "  "
            ]
          },
          "metadata": {},
          "execution_count": 8
        }
      ]
    },
    {
      "cell_type": "code",
      "source": [
        "# Using box plots to check for potential outliers and the skewness of the data\n",
        "\n",
        "fig, ax = plt.subplots(1,3, figsize=(20,8))\n",
        "fig.suptitle('Boxplots')\n",
        "\n",
        "sns.boxplot(data=df, y = \"year\", ax=ax[0], palette=\"Reds\")\n",
        "ax[0].set_title('Box Plot of Year')\n",
        "\n",
        "sns.boxplot(data=df, y = \"age_of_respondent\", ax=ax[1], palette=\"Oranges\")\n",
        "ax[1].set_title('Box Plot of Respondents Age')\n",
        "\n",
        "sns.boxplot(data=df, y = \"household_size\", ax=ax[2])\n",
        "ax[2].set_title('Box Plot of Household Size')\n",
        "\n",
        "plt.show()"
      ],
      "metadata": {
        "colab": {
          "base_uri": "https://localhost:8080/",
          "height": 520
        },
        "id": "c3QkW5OUneXs",
        "outputId": "fdc75b3f-5c3d-4679-d9b0-890676c7c6aa"
      },
      "execution_count": null,
      "outputs": [
        {
          "output_type": "display_data",
          "data": {
            "text/plain": [
              "<Figure size 1440x576 with 3 Axes>"
            ],
            "image/png": "[encoded data removed]"
          },
          "metadata": {
            "needs_background": "light"
          }
        }
      ]
    },
    {
      "cell_type": "markdown",
      "source": [
        "The age of respondents has a few outliners.\n",
        "\n",
        "The household size box plot suggest that the household size are relatively close with each other. "
      ],
      "metadata": {
        "id": "H_-z7OQWnvbl"
      }
    },
    {
      "cell_type": "code",
      "source": [
        "# Checking for missing data\n",
        "\n",
        "np.count_nonzero(df.isnull())\n",
        "df.isnull().sum()"
      ],
      "metadata": {
        "colab": {
          "base_uri": "https://localhost:8080/"
        },
        "id": "iJKEeBiQneVt",
        "outputId": "db19caf4-0f63-45d1-b1c5-142a936a3b42"
      },
      "execution_count": null,
      "outputs": [
        {
          "output_type": "execute_result",
          "data": {
            "text/plain": [
              "country                   0\n",
              "year                      0\n",
              "uniqueid                  0\n",
              "bank_account              0\n",
              "location_type             0\n",
              "cellphone_access          0\n",
              "household_size            0\n",
              "age_of_respondent         0\n",
              "gender_of_respondent      0\n",
              "relationship_with_head    0\n",
              "marital_status            0\n",
              "education_level           0\n",
              "job_type                  0\n",
              "dtype: int64"
            ]
          },
          "metadata": {},
          "execution_count": 10
        }
      ]
    },
    {
      "cell_type": "code",
      "source": [
        "# Plotting a histogram to show the distribution of age and household size \n",
        "\n",
        "fig, ax=plt.subplots(1,2,figsize=(15,5))\n",
        "df['age_of_respondent'].plot.hist(ax=ax[0], bins=10, edgecolor='black', color='mediumvioletred')\n",
        "\n",
        "ax[0].set_title('Distribution of Age')\n",
        "x1 = list(range(0,85,5))\n",
        "ax[0].set_xticks(x1)\n",
        "\n",
        "df['household_size'].plot.hist(ax=ax[1], color='royalblue', bins=10, edgecolor='black')\n",
        "ax[1].set_title('Distribution of Household Size')\n",
        "x2 = list(range(0,20,2))\n",
        "ax[1].set_xticks(x2)\n",
        "\n",
        "plt.show()"
      ],
      "metadata": {
        "colab": {
          "base_uri": "https://localhost:8080/",
          "height": 336
        },
        "id": "94A8IxKso4Wq",
        "outputId": "f3cb91d8-7d3d-43ca-cc1d-86e5705b1c74"
      },
      "execution_count": null,
      "outputs": [
        {
          "output_type": "display_data",
          "data": {
            "text/plain": [
              "<Figure size 1080x360 with 2 Axes>"
            ],
            "image/png": "[encoded data removed]"
          },
          "metadata": {
            "needs_background": "light"
          }
        }
      ]
    },
    {
      "cell_type": "markdown",
      "source": [
        "Here we can see that a lot of the respondent's age is approximately between 16 and 42.\n",
        "\n",
        "And most household size falls between 1 and 5 with a few outliers."
      ],
      "metadata": {
        "id": "KA1xrGKppkWS"
      }
    },
    {
      "cell_type": "markdown",
      "source": [
        "## 2 Check if the target variable is balanced"
      ],
      "metadata": {
        "id": "ZZVzakDHpXbT"
      }
    },
    {
      "cell_type": "code",
      "source": [
        "# Using value_counts to check if the target is balanced \n",
        "\n",
        "df.value_counts('bank_account')"
      ],
      "metadata": {
        "colab": {
          "base_uri": "https://localhost:8080/"
        },
        "id": "EETdmFgXtE4F",
        "outputId": "70131d51-19ba-4f58-df4c-ad2e27e66a8a"
      },
      "execution_count": null,
      "outputs": [
        {
          "output_type": "execute_result",
          "data": {
            "text/plain": [
              "bank_account\n",
              "No     20212\n",
              "Yes     3312\n",
              "dtype: int64"
            ]
          },
          "metadata": {},
          "execution_count": 12
        }
      ]
    },
    {
      "cell_type": "code",
      "source": [
        "# Using bar chart to check if the target is balanced \n",
        "\n",
        "fig, ax = plt.subplots(1, 1, figsize=(7, 6))\n",
        "sns.countplot('bank_account', data=df, ax=ax)\n",
        "ax.set_title('Bank Account Status')"
      ],
      "metadata": {
        "colab": {
          "base_uri": "https://localhost:8080/",
          "height": 480
        },
        "id": "mH8nfzzfo4UT",
        "outputId": "399be838-7fd5-4cf6-bd13-2772f7cd14ea"
      },
      "execution_count": null,
      "outputs": [
        {
          "output_type": "stream",
          "name": "stderr",
          "text": [
            "/usr/local/lib/python3.7/dist-packages/seaborn/_decorators.py:43: FutureWarning: Pass the following variable as a keyword arg: x. From version 0.12, the only valid positional argument will be `data`, and passing other arguments without an explicit keyword will result in an error or misinterpretation.\n",
            "  FutureWarning\n"
          ]
        },
        {
          "output_type": "execute_result",
          "data": {
            "text/plain": [
              "Text(0.5, 1.0, 'Bank Account Status')"
            ]
          },
          "metadata": {},
          "execution_count": 13
        },
        {
          "output_type": "display_data",
          "data": {
            "text/plain": [
              "<Figure size 504x432 with 1 Axes>"
            ],
            "image/png": "[encoded data removed]"
          },
          "metadata": {
            "needs_background": "light"
          }
        }
      ]
    },
    {
      "cell_type": "markdown",
      "source": [
        "### We can see clearly that the dataset is imbalanced.\n",
        "### It is important to use a balanced dataset.\n",
        "### I will be using SMOTE method from sklearn.utils to oversample the minority class (later)"
      ],
      "metadata": {
        "id": "E5TghPFss2w8"
      }
    },
    {
      "cell_type": "code",
      "source": [
        "# Comparing education level and Job Type vs having a bank account\n",
        "\n",
        "\n",
        "fig,ax=plt.subplots(1,2,figsize=(16,6))\n",
        "\n",
        "sns.countplot('education_level',hue='bank_account',data=df,ax=ax[0])\n",
        "ax[0].set_title('Education vs Having a Bank Account')\n",
        "\n",
        "\n",
        "sns.countplot('job_type',hue='bank_account',data=df,ax=ax[1])\n",
        "ax[1].set_title('Job Type vs Having a Bank Account')\n",
        "\n",
        "for ax in fig.axes:\n",
        "    plt.sca(ax)\n",
        "    plt.xticks(rotation=90)\n",
        "\n",
        "\n",
        "plt.show()"
      ],
      "metadata": {
        "colab": {
          "base_uri": "https://localhost:8080/",
          "height": 128
        },
        "id": "MDcs9-a0o4SM",
        "outputId": "5e0cfc23-4bcd-48d2-81b8-7d0e6d50f831"
      },
      "execution_count": null,
      "outputs": [
        {
          "output_type": "stream",
          "name": "stderr",
          "text": [
            "/usr/local/lib/python3.7/dist-packages/seaborn/_decorators.py:43: FutureWarning: Pass the following variable as a keyword arg: x. From version 0.12, the only valid positional argument will be `data`, and passing other arguments without an explicit keyword will result in an error or misinterpretation.\n",
            "  FutureWarning\n",
            "/usr/local/lib/python3.7/dist-packages/seaborn/_decorators.py:43: FutureWarning: Pass the following variable as a keyword arg: x. From version 0.12, the only valid positional argument will be `data`, and passing other arguments without an explicit keyword will result in an error or misinterpretation.\n",
            "  FutureWarning\n"
          ]
        },
        {
          "output_type": "display_data",
          "data": {
            "text/plain": [
              "<Figure size 1152x432 with 2 Axes>"
            ],
            "image/png": "[encoded data removed]"
          },
          "metadata": {
            "needs_background": "light"
          }
        }
      ]
    },
    {
      "cell_type": "code",
      "source": [
        "# Our models will be expecting numerical features; we need to change some categorical features to numeric\n",
        "\n",
        "encode = {\"bank_account\": {\"Yes\":1, \"No\":0}, \n",
        "          \"gender_of_respondent\": {\"Male\":1, \"Female\":0},\n",
        "          \"cellphone_access\":{\"Yes\":1,\"No\":0}, \n",
        "          \"location_type\": {\"Rural\":1, \"Urban\":0},\n",
        "          \"education_level\":{\"No formal education\":0,\"Primary education\":1, \"Secondary education\":2,\n",
        "                              \"Vocational/Specialised training\":3,\"Tertiary education\":4, \"Other/Dont know/RTA\":5},\n",
        "          \"relationship_with_head\":{\"Head of Household\":0, \"Child\":1, \"Parent\":2,\n",
        "                            \"Spouse\":3, \"Other relative\":4, \"Other non-relatives\":5}, \n",
        "          \"marital_status\":{\"Married/Living together\":0, \"Single/Never Married\":1, \"Divorced/Seperated\":2,\n",
        "                            \"Widowed\":3, \"Dont know\":4}}"
      ],
      "metadata": {
        "id": "0H0LofEWo4Pd"
      },
      "execution_count": null,
      "outputs": []
    },
    {
      "cell_type": "code",
      "source": [
        "df.replace(encode, inplace = True)\n",
        "df.sample(10)"
      ],
      "metadata": {
        "colab": {
          "base_uri": "https://localhost:8080/",
          "height": 618
        },
        "id": "VHMCnIEPo4NR",
        "outputId": "fe4823e9-36c9-4f62-840d-cef650035fab"
      },
      "execution_count": null,
      "outputs": [
        {
          "output_type": "execute_result",
          "data": {
            "text/plain": [
              "      country  year       uniqueid  bank_account  location_type  \\\n",
              "4785    Kenya  2018  uniqueid_4786             1              0   \n",
              "2476    Kenya  2018  uniqueid_2477             1              1   \n",
              "5220    Kenya  2018  uniqueid_5221             1              0   \n",
              "11691  Rwanda  2016  uniqueid_5624             0              1   \n",
              "8977   Rwanda  2016  uniqueid_2910             0              1   \n",
              "6977   Rwanda  2016   uniqueid_910             0              1   \n",
              "14719  Rwanda  2016  uniqueid_8667             0              1   \n",
              "712     Kenya  2018   uniqueid_713             1              0   \n",
              "8094   Rwanda  2016  uniqueid_2027             0              1   \n",
              "2125    Kenya  2018  uniqueid_2126             1              0   \n",
              "\n",
              "       cellphone_access  household_size  age_of_respondent  \\\n",
              "4785                  1               4                 34   \n",
              "2476                  1               2                 79   \n",
              "5220                  1               6                 29   \n",
              "11691                 1               6                 38   \n",
              "8977                  1               7                 31   \n",
              "6977                  1               4                 23   \n",
              "14719                 1               3                 30   \n",
              "712                   1               1                 25   \n",
              "8094                  1               4                 26   \n",
              "2125                  1               5                 22   \n",
              "\n",
              "       gender_of_respondent  relationship_with_head  marital_status  \\\n",
              "4785                      0                       3               0   \n",
              "2476                      1                       0               3   \n",
              "5220                      0                       3               0   \n",
              "11691                     0                       3               0   \n",
              "8977                      1                       0               0   \n",
              "6977                      0                       3               0   \n",
              "14719                     0                       3               0   \n",
              "712                       0                       0               1   \n",
              "8094                      0                       3               0   \n",
              "2125                      1                       1               1   \n",
              "\n",
              "       education_level                      job_type  \n",
              "4785                 3          Remittance Dependent  \n",
              "2476                 1           Farming and Fishing  \n",
              "5220                 2           Informally employed  \n",
              "11691                1           Farming and Fishing  \n",
              "8977                 1           Farming and Fishing  \n",
              "6977                 1          Remittance Dependent  \n",
              "14719                1           Farming and Fishing  \n",
              "712                  2  Formally employed Government  \n",
              "8094                 1                  Other Income  \n",
              "2125                 4          Remittance Dependent  "
            ],
            "text/html": [
              "\n",
              "  <div id=\"df-d8e1f8ec-2fb7-489e-978f-4b1beb375a68\">\n",
              "    <div class=\"colab-df-container\">\n",
              "      <div>\n",
              "<style scoped>\n",
              "    .dataframe tbody tr th:only-of-type {\n",
              "        vertical-align: middle;\n",
              "    }\n",
              "\n",
              "    .dataframe tbody tr th {\n",
              "        vertical-align: top;\n",
              "    }\n",
              "\n",
              "    .dataframe thead th {\n",
              "        text-align: right;\n",
              "    }\n",
              "</style>\n",
              "<table border=\"1\" class=\"dataframe\">\n",
              "  <thead>\n",
              "    <tr style=\"text-align: right;\">\n",
              "      <th></th>\n",
              "      <th>country</th>\n",
              "      <th>year</th>\n",
              "      <th>uniqueid</th>\n",
              "      <th>bank_account</th>\n",
              "      <th>location_type</th>\n",
              "      <th>cellphone_access</th>\n",
              "      <th>household_size</th>\n",
              "      <th>age_of_respondent</th>\n",
              "      <th>gender_of_respondent</th>\n",
              "      <th>relationship_with_head</th>\n",
              "      <th>marital_status</th>\n",
              "      <th>education_level</th>\n",
              "      <th>job_type</th>\n",
              "    </tr>\n",
              "  </thead>\n",
              "  <tbody>\n",
              "    <tr>\n",
              "      <th>4785</th>\n",
              "      <td>Kenya</td>\n",
              "      <td>2018</td>\n",
              "      <td>uniqueid_4786</td>\n",
              "      <td>1</td>\n",
              "      <td>0</td>\n",
              "      <td>1</td>\n",
              "      <td>4</td>\n",
              "      <td>34</td>\n",
              "      <td>0</td>\n",
              "      <td>3</td>\n",
              "      <td>0</td>\n",
              "      <td>3</td>\n",
              "      <td>Remittance Dependent</td>\n",
              "    </tr>\n",
              "    <tr>\n",
              "      <th>2476</th>\n",
              "      <td>Kenya</td>\n",
              "      <td>2018</td>\n",
              "      <td>uniqueid_2477</td>\n",
              "      <td>1</td>\n",
              "      <td>1</td>\n",
              "      <td>1</td>\n",
              "      <td>2</td>\n",
              "      <td>79</td>\n",
              "      <td>1</td>\n",
              "      <td>0</td>\n",
              "      <td>3</td>\n",
              "      <td>1</td>\n",
              "      <td>Farming and Fishing</td>\n",
              "    </tr>\n",
              "    <tr>\n",
              "      <th>5220</th>\n",
              "      <td>Kenya</td>\n",
              "      <td>2018</td>\n",
              "      <td>uniqueid_5221</td>\n",
              "      <td>1</td>\n",
              "      <td>0</td>\n",
              "      <td>1</td>\n",
              "      <td>6</td>\n",
              "      <td>29</td>\n",
              "      <td>0</td>\n",
              "      <td>3</td>\n",
              "      <td>0</td>\n",
              "      <td>2</td>\n",
              "      <td>Informally employed</td>\n",
              "    </tr>\n",
              "    <tr>\n",
              "      <th>11691</th>\n",
              "      <td>Rwanda</td>\n",
              "      <td>2016</td>\n",
              "      <td>uniqueid_5624</td>\n",
              "      <td>0</td>\n",
              "      <td>1</td>\n",
              "      <td>1</td>\n",
              "      <td>6</td>\n",
              "      <td>38</td>\n",
              "      <td>0</td>\n",
              "      <td>3</td>\n",
              "      <td>0</td>\n",
              "      <td>1</td>\n",
              "      <td>Farming and Fishing</td>\n",
              "    </tr>\n",
              "    <tr>\n",
              "      <th>8977</th>\n",
              "      <td>Rwanda</td>\n",
              "      <td>2016</td>\n",
              "      <td>uniqueid_2910</td>\n",
              "      <td>0</td>\n",
              "      <td>1</td>\n",
              "      <td>1</td>\n",
              "      <td>7</td>\n",
              "      <td>31</td>\n",
              "      <td>1</td>\n",
              "      <td>0</td>\n",
              "      <td>0</td>\n",
              "      <td>1</td>\n",
              "      <td>Farming and Fishing</td>\n",
              "    </tr>\n",
              "    <tr>\n",
              "      <th>6977</th>\n",
              "      <td>Rwanda</td>\n",
              "      <td>2016</td>\n",
              "      <td>uniqueid_910</td>\n",
              "      <td>0</td>\n",
              "      <td>1</td>\n",
              "      <td>1</td>\n",
              "      <td>4</td>\n",
              "      <td>23</td>\n",
              "      <td>0</td>\n",
              "      <td>3</td>\n",
              "      <td>0</td>\n",
              "      <td>1</td>\n",
              "      <td>Remittance Dependent</td>\n",
              "    </tr>\n",
              "    <tr>\n",
              "      <th>14719</th>\n",
              "      <td>Rwanda</td>\n",
              "      <td>2016</td>\n",
              "      <td>uniqueid_8667</td>\n",
              "      <td>0</td>\n",
              "      <td>1</td>\n",
              "      <td>1</td>\n",
              "      <td>3</td>\n",
              "      <td>30</td>\n",
              "      <td>0</td>\n",
              "      <td>3</td>\n",
              "      <td>0</td>\n",
              "      <td>1</td>\n",
              "      <td>Farming and Fishing</td>\n",
              "    </tr>\n",
              "    <tr>\n",
              "      <th>712</th>\n",
              "      <td>Kenya</td>\n",
              "      <td>2018</td>\n",
              "      <td>uniqueid_713</td>\n",
              "      <td>1</td>\n",
              "      <td>0</td>\n",
              "      <td>1</td>\n",
              "      <td>1</td>\n",
              "      <td>25</td>\n",
              "      <td>0</td>\n",
              "      <td>0</td>\n",
              "      <td>1</td>\n",
              "      <td>2</td>\n",
              "      <td>Formally employed Government</td>\n",
              "    </tr>\n",
              "    <tr>\n",
              "      <th>8094</th>\n",
              "      <td>Rwanda</td>\n",
              "      <td>2016</td>\n",
              "      <td>uniqueid_2027</td>\n",
              "      <td>0</td>\n",
              "      <td>1</td>\n",
              "      <td>1</td>\n",
              "      <td>4</td>\n",
              "      <td>26</td>\n",
              "      <td>0</td>\n",
              "      <td>3</td>\n",
              "      <td>0</td>\n",
              "      <td>1</td>\n",
              "      <td>Other Income</td>\n",
              "    </tr>\n",
              "    <tr>\n",
              "      <th>2125</th>\n",
              "      <td>Kenya</td>\n",
              "      <td>2018</td>\n",
              "      <td>uniqueid_2126</td>\n",
              "      <td>1</td>\n",
              "      <td>0</td>\n",
              "      <td>1</td>\n",
              "      <td>5</td>\n",
              "      <td>22</td>\n",
              "      <td>1</td>\n",
              "      <td>1</td>\n",
              "      <td>1</td>\n",
              "      <td>4</td>\n",
              "      <td>Remittance Dependent</td>\n",
              "    </tr>\n",
              "  </tbody>\n",
              "</table>\n",
              "</div>\n",
              "      <button class=\"colab-df-convert\" onclick=\"convertToInteractive('df-d8e1f8ec-2fb7-489e-978f-4b1beb375a68')\"\n",
              "              title=\"Convert this dataframe to an interactive table.\"\n",
              "              style=\"display:none;\">\n",
              "        \n",
              "  <svg xmlns=\"http://www.w3.org/2000/svg\" height=\"24px\"viewBox=\"0 0 24 24\"\n",
              "       width=\"24px\">\n",
              "    <path d=\"M0 0h24v24H0V0z\" fill=\"none\"/>\n",
              "    <path d=\"M18.56 5.44l.94 2.06.94-2.06 2.06-.94-2.06-.94-.94-2.06-.94 2.06-2.06.94zm-11 1L8.5 8.5l.94-2.06 2.06-.94-2.06-.94L8.5 2.5l-.94 2.06-2.06.94zm10 10l.94 2.06.94-2.06 2.06-.94-2.06-.94-.94-2.06-.94 2.06-2.06.94z\"/><path d=\"M17.41 7.96l-1.37-1.37c-.4-.4-.92-.59-1.43-.59-.52 0-1.04.2-1.43.59L10.3 9.45l-7.72 7.72c-.78.78-.78 2.05 0 2.83L4 21.41c.39.39.9.59 1.41.59.51 0 1.02-.2 1.41-.59l7.78-7.78 2.81-2.81c.8-.78.8-2.07 0-2.86zM5.41 20L4 18.59l7.72-7.72 1.47 1.35L5.41 20z\"/>\n",
              "  </svg>\n",
              "      </button>\n",
              "      \n",
              "  <style>\n",
              "    .colab-df-container {\n",
              "      display:flex;\n",
              "      flex-wrap:wrap;\n",
              "      gap: 12px;\n",
              "    }\n",
              "\n",
              "    .colab-df-convert {\n",
              "      background-color: #E8F0FE;\n",
              "      border: none;\n",
              "      border-radius: 50%;\n",
              "      cursor: pointer;\n",
              "      display: none;\n",
              "      fill: #1967D2;\n",
              "      height: 32px;\n",
              "      padding: 0 0 0 0;\n",
              "      width: 32px;\n",
              "    }\n",
              "\n",
              "    .colab-df-convert:hover {\n",
              "      background-color: #E2EBFA;\n",
              "      box-shadow: 0px 1px 2px rgba(60, 64, 67, 0.3), 0px 1px 3px 1px rgba(60, 64, 67, 0.15);\n",
              "      fill: #174EA6;\n",
              "    }\n",
              "\n",
              "    [theme=dark] .colab-df-convert {\n",
              "      background-color: #3B4455;\n",
              "      fill: #D2E3FC;\n",
              "    }\n",
              "\n",
              "    [theme=dark] .colab-df-convert:hover {\n",
              "      background-color: #434B5C;\n",
              "      box-shadow: 0px 1px 3px 1px rgba(0, 0, 0, 0.15);\n",
              "      filter: drop-shadow(0px 1px 2px rgba(0, 0, 0, 0.3));\n",
              "      fill: #FFFFFF;\n",
              "    }\n",
              "  </style>\n",
              "\n",
              "      <script>\n",
              "        const buttonEl =\n",
              "          document.querySelector('#df-d8e1f8ec-2fb7-489e-978f-4b1beb375a68 button.colab-df-convert');\n",
              "        buttonEl.style.display =\n",
              "          google.colab.kernel.accessAllowed ? 'block' : 'none';\n",
              "\n",
              "        async function convertToInteractive(key) {\n",
              "          const element = document.querySelector('#df-d8e1f8ec-2fb7-489e-978f-4b1beb375a68');\n",
              "          const dataTable =\n",
              "            await google.colab.kernel.invokeFunction('convertToInteractive',\n",
              "                                                     [key], {});\n",
              "          if (!dataTable) return;\n",
              "\n",
              "          const docLinkHtml = 'Like what you see? Visit the ' +\n",
              "            '<a target=\"_blank\" href=https://colab.research.google.com/notebooks/data_table.ipynb>data table notebook</a>'\n",
              "            + ' to learn more about interactive tables.';\n",
              "          element.innerHTML = '';\n",
              "          dataTable['output_type'] = 'display_data';\n",
              "          await google.colab.output.renderOutput(dataTable, element);\n",
              "          const docLink = document.createElement('div');\n",
              "          docLink.innerHTML = docLinkHtml;\n",
              "          element.appendChild(docLink);\n",
              "        }\n",
              "      </script>\n",
              "    </div>\n",
              "  </div>\n",
              "  "
            ]
          },
          "metadata": {},
          "execution_count": 16
        }
      ]
    },
    {
      "cell_type": "code",
      "source": [
        "df.sample(5)"
      ],
      "metadata": {
        "colab": {
          "base_uri": "https://localhost:8080/",
          "height": 409
        },
        "id": "zxrM3QZBv7eH",
        "outputId": "f75606be-4557-4642-9947-37b12b77dc34"
      },
      "execution_count": null,
      "outputs": [
        {
          "output_type": "execute_result",
          "data": {
            "text/plain": [
              "        country  year       uniqueid  bank_account  location_type  \\\n",
              "195       Kenya  2018   uniqueid_196             0              1   \n",
              "10719    Rwanda  2016  uniqueid_4652             0              1   \n",
              "18516  Tanzania  2017  uniqueid_3714             0              0   \n",
              "445       Kenya  2018   uniqueid_446             0              1   \n",
              "8864     Rwanda  2016  uniqueid_2797             0              1   \n",
              "\n",
              "       cellphone_access  household_size  age_of_respondent  \\\n",
              "195                   0               5                 18   \n",
              "10719                 1               3                 20   \n",
              "18516                 0               2                 58   \n",
              "445                   1               4                 46   \n",
              "8864                  1               9                 45   \n",
              "\n",
              "       gender_of_respondent  relationship_with_head  marital_status  \\\n",
              "195                       0                       1               1   \n",
              "10719                     1                       1               1   \n",
              "18516                     1                       0               1   \n",
              "445                       0                       0               3   \n",
              "8864                      0                       3               0   \n",
              "\n",
              "       education_level              job_type  \n",
              "195                  2  Remittance Dependent  \n",
              "10719                2   Farming and Fishing  \n",
              "18516                1         Self employed  \n",
              "445                  1   Farming and Fishing  \n",
              "8864                 2   Farming and Fishing  "
            ],
            "text/html": [
              "\n",
              "  <div id=\"df-ceba90dc-8376-48a6-91b8-932685f545d0\">\n",
              "    <div class=\"colab-df-container\">\n",
              "      <div>\n",
              "<style scoped>\n",
              "    .dataframe tbody tr th:only-of-type {\n",
              "        vertical-align: middle;\n",
              "    }\n",
              "\n",
              "    .dataframe tbody tr th {\n",
              "        vertical-align: top;\n",
              "    }\n",
              "\n",
              "    .dataframe thead th {\n",
              "        text-align: right;\n",
              "    }\n",
              "</style>\n",
              "<table border=\"1\" class=\"dataframe\">\n",
              "  <thead>\n",
              "    <tr style=\"text-align: right;\">\n",
              "      <th></th>\n",
              "      <th>country</th>\n",
              "      <th>year</th>\n",
              "      <th>uniqueid</th>\n",
              "      <th>bank_account</th>\n",
              "      <th>location_type</th>\n",
              "      <th>cellphone_access</th>\n",
              "      <th>household_size</th>\n",
              "      <th>age_of_respondent</th>\n",
              "      <th>gender_of_respondent</th>\n",
              "      <th>relationship_with_head</th>\n",
              "      <th>marital_status</th>\n",
              "      <th>education_level</th>\n",
              "      <th>job_type</th>\n",
              "    </tr>\n",
              "  </thead>\n",
              "  <tbody>\n",
              "    <tr>\n",
              "      <th>195</th>\n",
              "      <td>Kenya</td>\n",
              "      <td>2018</td>\n",
              "      <td>uniqueid_196</td>\n",
              "      <td>0</td>\n",
              "      <td>1</td>\n",
              "      <td>0</td>\n",
              "      <td>5</td>\n",
              "      <td>18</td>\n",
              "      <td>0</td>\n",
              "      <td>1</td>\n",
              "      <td>1</td>\n",
              "      <td>2</td>\n",
              "      <td>Remittance Dependent</td>\n",
              "    </tr>\n",
              "    <tr>\n",
              "      <th>10719</th>\n",
              "      <td>Rwanda</td>\n",
              "      <td>2016</td>\n",
              "      <td>uniqueid_4652</td>\n",
              "      <td>0</td>\n",
              "      <td>1</td>\n",
              "      <td>1</td>\n",
              "      <td>3</td>\n",
              "      <td>20</td>\n",
              "      <td>1</td>\n",
              "      <td>1</td>\n",
              "      <td>1</td>\n",
              "      <td>2</td>\n",
              "      <td>Farming and Fishing</td>\n",
              "    </tr>\n",
              "    <tr>\n",
              "      <th>18516</th>\n",
              "      <td>Tanzania</td>\n",
              "      <td>2017</td>\n",
              "      <td>uniqueid_3714</td>\n",
              "      <td>0</td>\n",
              "      <td>0</td>\n",
              "      <td>0</td>\n",
              "      <td>2</td>\n",
              "      <td>58</td>\n",
              "      <td>1</td>\n",
              "      <td>0</td>\n",
              "      <td>1</td>\n",
              "      <td>1</td>\n",
              "      <td>Self employed</td>\n",
              "    </tr>\n",
              "    <tr>\n",
              "      <th>445</th>\n",
              "      <td>Kenya</td>\n",
              "      <td>2018</td>\n",
              "      <td>uniqueid_446</td>\n",
              "      <td>0</td>\n",
              "      <td>1</td>\n",
              "      <td>1</td>\n",
              "      <td>4</td>\n",
              "      <td>46</td>\n",
              "      <td>0</td>\n",
              "      <td>0</td>\n",
              "      <td>3</td>\n",
              "      <td>1</td>\n",
              "      <td>Farming and Fishing</td>\n",
              "    </tr>\n",
              "    <tr>\n",
              "      <th>8864</th>\n",
              "      <td>Rwanda</td>\n",
              "      <td>2016</td>\n",
              "      <td>uniqueid_2797</td>\n",
              "      <td>0</td>\n",
              "      <td>1</td>\n",
              "      <td>1</td>\n",
              "      <td>9</td>\n",
              "      <td>45</td>\n",
              "      <td>0</td>\n",
              "      <td>3</td>\n",
              "      <td>0</td>\n",
              "      <td>2</td>\n",
              "      <td>Farming and Fishing</td>\n",
              "    </tr>\n",
              "  </tbody>\n",
              "</table>\n",
              "</div>\n",
              "      <button class=\"colab-df-convert\" onclick=\"convertToInteractive('df-ceba90dc-8376-48a6-91b8-932685f545d0')\"\n",
              "              title=\"Convert this dataframe to an interactive table.\"\n",
              "              style=\"display:none;\">\n",
              "        \n",
              "  <svg xmlns=\"http://www.w3.org/2000/svg\" height=\"24px\"viewBox=\"0 0 24 24\"\n",
              "       width=\"24px\">\n",
              "    <path d=\"M0 0h24v24H0V0z\" fill=\"none\"/>\n",
              "    <path d=\"M18.56 5.44l.94 2.06.94-2.06 2.06-.94-2.06-.94-.94-2.06-.94 2.06-2.06.94zm-11 1L8.5 8.5l.94-2.06 2.06-.94-2.06-.94L8.5 2.5l-.94 2.06-2.06.94zm10 10l.94 2.06.94-2.06 2.06-.94-2.06-.94-.94-2.06-.94 2.06-2.06.94z\"/><path d=\"M17.41 7.96l-1.37-1.37c-.4-.4-.92-.59-1.43-.59-.52 0-1.04.2-1.43.59L10.3 9.45l-7.72 7.72c-.78.78-.78 2.05 0 2.83L4 21.41c.39.39.9.59 1.41.59.51 0 1.02-.2 1.41-.59l7.78-7.78 2.81-2.81c.8-.78.8-2.07 0-2.86zM5.41 20L4 18.59l7.72-7.72 1.47 1.35L5.41 20z\"/>\n",
              "  </svg>\n",
              "      </button>\n",
              "      \n",
              "  <style>\n",
              "    .colab-df-container {\n",
              "      display:flex;\n",
              "      flex-wrap:wrap;\n",
              "      gap: 12px;\n",
              "    }\n",
              "\n",
              "    .colab-df-convert {\n",
              "      background-color: #E8F0FE;\n",
              "      border: none;\n",
              "      border-radius: 50%;\n",
              "      cursor: pointer;\n",
              "      display: none;\n",
              "      fill: #1967D2;\n",
              "      height: 32px;\n",
              "      padding: 0 0 0 0;\n",
              "      width: 32px;\n",
              "    }\n",
              "\n",
              "    .colab-df-convert:hover {\n",
              "      background-color: #E2EBFA;\n",
              "      box-shadow: 0px 1px 2px rgba(60, 64, 67, 0.3), 0px 1px 3px 1px rgba(60, 64, 67, 0.15);\n",
              "      fill: #174EA6;\n",
              "    }\n",
              "\n",
              "    [theme=dark] .colab-df-convert {\n",
              "      background-color: #3B4455;\n",
              "      fill: #D2E3FC;\n",
              "    }\n",
              "\n",
              "    [theme=dark] .colab-df-convert:hover {\n",
              "      background-color: #434B5C;\n",
              "      box-shadow: 0px 1px 3px 1px rgba(0, 0, 0, 0.15);\n",
              "      filter: drop-shadow(0px 1px 2px rgba(0, 0, 0, 0.3));\n",
              "      fill: #FFFFFF;\n",
              "    }\n",
              "  </style>\n",
              "\n",
              "      <script>\n",
              "        const buttonEl =\n",
              "          document.querySelector('#df-ceba90dc-8376-48a6-91b8-932685f545d0 button.colab-df-convert');\n",
              "        buttonEl.style.display =\n",
              "          google.colab.kernel.accessAllowed ? 'block' : 'none';\n",
              "\n",
              "        async function convertToInteractive(key) {\n",
              "          const element = document.querySelector('#df-ceba90dc-8376-48a6-91b8-932685f545d0');\n",
              "          const dataTable =\n",
              "            await google.colab.kernel.invokeFunction('convertToInteractive',\n",
              "                                                     [key], {});\n",
              "          if (!dataTable) return;\n",
              "\n",
              "          const docLinkHtml = 'Like what you see? Visit the ' +\n",
              "            '<a target=\"_blank\" href=https://colab.research.google.com/notebooks/data_table.ipynb>data table notebook</a>'\n",
              "            + ' to learn more about interactive tables.';\n",
              "          element.innerHTML = '';\n",
              "          dataTable['output_type'] = 'display_data';\n",
              "          await google.colab.output.renderOutput(dataTable, element);\n",
              "          const docLink = document.createElement('div');\n",
              "          docLink.innerHTML = docLinkHtml;\n",
              "          element.appendChild(docLink);\n",
              "        }\n",
              "      </script>\n",
              "    </div>\n",
              "  </div>\n",
              "  "
            ]
          },
          "metadata": {},
          "execution_count": 17
        }
      ]
    },
    {
      "cell_type": "code",
      "source": [
        "df.info()"
      ],
      "metadata": {
        "colab": {
          "base_uri": "https://localhost:8080/"
        },
        "id": "lWIpuAguo4K0",
        "outputId": "7c70cd11-698f-4538-abb1-ad194fe47690"
      },
      "execution_count": null,
      "outputs": [
        {
          "output_type": "stream",
          "name": "stdout",
          "text": [
            "<class 'pandas.core.frame.DataFrame'>\n",
            "RangeIndex: 23524 entries, 0 to 23523\n",
            "Data columns (total 13 columns):\n",
            " #   Column                  Non-Null Count  Dtype \n",
            "---  ------                  --------------  ----- \n",
            " 0   country                 23524 non-null  object\n",
            " 1   year                    23524 non-null  int64 \n",
            " 2   uniqueid                23524 non-null  object\n",
            " 3   bank_account            23524 non-null  int64 \n",
            " 4   location_type           23524 non-null  int64 \n",
            " 5   cellphone_access        23524 non-null  int64 \n",
            " 6   household_size          23524 non-null  int64 \n",
            " 7   age_of_respondent       23524 non-null  int64 \n",
            " 8   gender_of_respondent    23524 non-null  int64 \n",
            " 9   relationship_with_head  23524 non-null  int64 \n",
            " 10  marital_status          23524 non-null  int64 \n",
            " 11  education_level         23524 non-null  int64 \n",
            " 12  job_type                23524 non-null  object\n",
            "dtypes: int64(10), object(3)\n",
            "memory usage: 2.3+ MB\n"
          ]
        }
      ]
    },
    {
      "cell_type": "code",
      "source": [
        ""
      ],
      "metadata": {
        "id": "q3R0ikIgo4IT"
      },
      "execution_count": null,
      "outputs": []
    },
    {
      "cell_type": "code",
      "source": [
        "df.info()"
      ],
      "metadata": {
        "colab": {
          "base_uri": "https://localhost:8080/"
        },
        "id": "WuR8lTlPo4F9",
        "outputId": "a71f14a7-2e60-4285-adfc-623001482bba"
      },
      "execution_count": null,
      "outputs": [
        {
          "output_type": "stream",
          "name": "stdout",
          "text": [
            "<class 'pandas.core.frame.DataFrame'>\n",
            "RangeIndex: 23524 entries, 0 to 23523\n",
            "Data columns (total 13 columns):\n",
            " #   Column                  Non-Null Count  Dtype \n",
            "---  ------                  --------------  ----- \n",
            " 0   country                 23524 non-null  object\n",
            " 1   year                    23524 non-null  int64 \n",
            " 2   uniqueid                23524 non-null  object\n",
            " 3   bank_account            23524 non-null  int64 \n",
            " 4   location_type           23524 non-null  int64 \n",
            " 5   cellphone_access        23524 non-null  int64 \n",
            " 6   household_size          23524 non-null  int64 \n",
            " 7   age_of_respondent       23524 non-null  int64 \n",
            " 8   gender_of_respondent    23524 non-null  int64 \n",
            " 9   relationship_with_head  23524 non-null  int64 \n",
            " 10  marital_status          23524 non-null  int64 \n",
            " 11  education_level         23524 non-null  int64 \n",
            " 12  job_type                23524 non-null  object\n",
            "dtypes: int64(10), object(3)\n",
            "memory usage: 2.3+ MB\n"
          ]
        }
      ]
    },
    {
      "cell_type": "code",
      "source": [
        "# Dropping unncessary columns\n",
        "\n",
        "df.drop(['uniqueid', 'country', 'job_type', 'year', ], axis=1, inplace=True)"
      ],
      "metadata": {
        "id": "6uwWeJJjo3_x"
      },
      "execution_count": null,
      "outputs": []
    },
    {
      "cell_type": "code",
      "source": [
        "df.sample(10)"
      ],
      "metadata": {
        "colab": {
          "base_uri": "https://localhost:8080/",
          "height": 427
        },
        "id": "jh6cetZerF7K",
        "outputId": "c1c96a8b-8722-489a-eda0-c11e66402197"
      },
      "execution_count": null,
      "outputs": [
        {
          "output_type": "execute_result",
          "data": {
            "text/plain": [
              "       bank_account  location_type  cellphone_access  household_size  \\\n",
              "13048             0              1                 1               6   \n",
              "17553             0              0                 1               1   \n",
              "10192             0              1                 0               7   \n",
              "17453             1              1                 1               2   \n",
              "21610             0              1                 1              12   \n",
              "12907             0              1                 1               4   \n",
              "9861              1              0                 1               8   \n",
              "15970             1              1                 1               1   \n",
              "122               1              0                 1               7   \n",
              "14776             0              1                 1               4   \n",
              "\n",
              "       age_of_respondent  gender_of_respondent  relationship_with_head  \\\n",
              "13048                 17                     0                       1   \n",
              "17553                 42                     0                       0   \n",
              "10192                 16                     0                       1   \n",
              "17453                 42                     1                       0   \n",
              "21610                 18                     1                       2   \n",
              "12907                 25                     0                       3   \n",
              "9861                  75                     0                       2   \n",
              "15970                 28                     1                       0   \n",
              "122                   53                     0                       0   \n",
              "14776                 42                     1                       0   \n",
              "\n",
              "       marital_status  education_level  \n",
              "13048               1                1  \n",
              "17553               0                1  \n",
              "10192               1                2  \n",
              "17453               1                4  \n",
              "21610               1                1  \n",
              "12907               0                1  \n",
              "9861                3                1  \n",
              "15970               2                4  \n",
              "122                 0                4  \n",
              "14776               0                0  "
            ],
            "text/html": [
              "\n",
              "  <div id=\"df-66c5f6c2-086b-4095-b2cc-0b2625a80e3a\">\n",
              "    <div class=\"colab-df-container\">\n",
              "      <div>\n",
              "<style scoped>\n",
              "    .dataframe tbody tr th:only-of-type {\n",
              "        vertical-align: middle;\n",
              "    }\n",
              "\n",
              "    .dataframe tbody tr th {\n",
              "        vertical-align: top;\n",
              "    }\n",
              "\n",
              "    .dataframe thead th {\n",
              "        text-align: right;\n",
              "    }\n",
              "</style>\n",
              "<table border=\"1\" class=\"dataframe\">\n",
              "  <thead>\n",
              "    <tr style=\"text-align: right;\">\n",
              "      <th></th>\n",
              "      <th>bank_account</th>\n",
              "      <th>location_type</th>\n",
              "      <th>cellphone_access</th>\n",
              "      <th>household_size</th>\n",
              "      <th>age_of_respondent</th>\n",
              "      <th>gender_of_respondent</th>\n",
              "      <th>relationship_with_head</th>\n",
              "      <th>marital_status</th>\n",
              "      <th>education_level</th>\n",
              "    </tr>\n",
              "  </thead>\n",
              "  <tbody>\n",
              "    <tr>\n",
              "      <th>13048</th>\n",
              "      <td>0</td>\n",
              "      <td>1</td>\n",
              "      <td>1</td>\n",
              "      <td>6</td>\n",
              "      <td>17</td>\n",
              "      <td>0</td>\n",
              "      <td>1</td>\n",
              "      <td>1</td>\n",
              "      <td>1</td>\n",
              "    </tr>\n",
              "    <tr>\n",
              "      <th>17553</th>\n",
              "      <td>0</td>\n",
              "      <td>0</td>\n",
              "      <td>1</td>\n",
              "      <td>1</td>\n",
              "      <td>42</td>\n",
              "      <td>0</td>\n",
              "      <td>0</td>\n",
              "      <td>0</td>\n",
              "      <td>1</td>\n",
              "    </tr>\n",
              "    <tr>\n",
              "      <th>10192</th>\n",
              "      <td>0</td>\n",
              "      <td>1</td>\n",
              "      <td>0</td>\n",
              "      <td>7</td>\n",
              "      <td>16</td>\n",
              "      <td>0</td>\n",
              "      <td>1</td>\n",
              "      <td>1</td>\n",
              "      <td>2</td>\n",
              "    </tr>\n",
              "    <tr>\n",
              "      <th>17453</th>\n",
              "      <td>1</td>\n",
              "      <td>1</td>\n",
              "      <td>1</td>\n",
              "      <td>2</td>\n",
              "      <td>42</td>\n",
              "      <td>1</td>\n",
              "      <td>0</td>\n",
              "      <td>1</td>\n",
              "      <td>4</td>\n",
              "    </tr>\n",
              "    <tr>\n",
              "      <th>21610</th>\n",
              "      <td>0</td>\n",
              "      <td>1</td>\n",
              "      <td>1</td>\n",
              "      <td>12</td>\n",
              "      <td>18</td>\n",
              "      <td>1</td>\n",
              "      <td>2</td>\n",
              "      <td>1</td>\n",
              "      <td>1</td>\n",
              "    </tr>\n",
              "    <tr>\n",
              "      <th>12907</th>\n",
              "      <td>0</td>\n",
              "      <td>1</td>\n",
              "      <td>1</td>\n",
              "      <td>4</td>\n",
              "      <td>25</td>\n",
              "      <td>0</td>\n",
              "      <td>3</td>\n",
              "      <td>0</td>\n",
              "      <td>1</td>\n",
              "    </tr>\n",
              "    <tr>\n",
              "      <th>9861</th>\n",
              "      <td>1</td>\n",
              "      <td>0</td>\n",
              "      <td>1</td>\n",
              "      <td>8</td>\n",
              "      <td>75</td>\n",
              "      <td>0</td>\n",
              "      <td>2</td>\n",
              "      <td>3</td>\n",
              "      <td>1</td>\n",
              "    </tr>\n",
              "    <tr>\n",
              "      <th>15970</th>\n",
              "      <td>1</td>\n",
              "      <td>1</td>\n",
              "      <td>1</td>\n",
              "      <td>1</td>\n",
              "      <td>28</td>\n",
              "      <td>1</td>\n",
              "      <td>0</td>\n",
              "      <td>2</td>\n",
              "      <td>4</td>\n",
              "    </tr>\n",
              "    <tr>\n",
              "      <th>122</th>\n",
              "      <td>1</td>\n",
              "      <td>0</td>\n",
              "      <td>1</td>\n",
              "      <td>7</td>\n",
              "      <td>53</td>\n",
              "      <td>0</td>\n",
              "      <td>0</td>\n",
              "      <td>0</td>\n",
              "      <td>4</td>\n",
              "    </tr>\n",
              "    <tr>\n",
              "      <th>14776</th>\n",
              "      <td>0</td>\n",
              "      <td>1</td>\n",
              "      <td>1</td>\n",
              "      <td>4</td>\n",
              "      <td>42</td>\n",
              "      <td>1</td>\n",
              "      <td>0</td>\n",
              "      <td>0</td>\n",
              "      <td>0</td>\n",
              "    </tr>\n",
              "  </tbody>\n",
              "</table>\n",
              "</div>\n",
              "      <button class=\"colab-df-convert\" onclick=\"convertToInteractive('df-66c5f6c2-086b-4095-b2cc-0b2625a80e3a')\"\n",
              "              title=\"Convert this dataframe to an interactive table.\"\n",
              "              style=\"display:none;\">\n",
              "        \n",
              "  <svg xmlns=\"http://www.w3.org/2000/svg\" height=\"24px\"viewBox=\"0 0 24 24\"\n",
              "       width=\"24px\">\n",
              "    <path d=\"M0 0h24v24H0V0z\" fill=\"none\"/>\n",
              "    <path d=\"M18.56 5.44l.94 2.06.94-2.06 2.06-.94-2.06-.94-.94-2.06-.94 2.06-2.06.94zm-11 1L8.5 8.5l.94-2.06 2.06-.94-2.06-.94L8.5 2.5l-.94 2.06-2.06.94zm10 10l.94 2.06.94-2.06 2.06-.94-2.06-.94-.94-2.06-.94 2.06-2.06.94z\"/><path d=\"M17.41 7.96l-1.37-1.37c-.4-.4-.92-.59-1.43-.59-.52 0-1.04.2-1.43.59L10.3 9.45l-7.72 7.72c-.78.78-.78 2.05 0 2.83L4 21.41c.39.39.9.59 1.41.59.51 0 1.02-.2 1.41-.59l7.78-7.78 2.81-2.81c.8-.78.8-2.07 0-2.86zM5.41 20L4 18.59l7.72-7.72 1.47 1.35L5.41 20z\"/>\n",
              "  </svg>\n",
              "      </button>\n",
              "      \n",
              "  <style>\n",
              "    .colab-df-container {\n",
              "      display:flex;\n",
              "      flex-wrap:wrap;\n",
              "      gap: 12px;\n",
              "    }\n",
              "\n",
              "    .colab-df-convert {\n",
              "      background-color: #E8F0FE;\n",
              "      border: none;\n",
              "      border-radius: 50%;\n",
              "      cursor: pointer;\n",
              "      display: none;\n",
              "      fill: #1967D2;\n",
              "      height: 32px;\n",
              "      padding: 0 0 0 0;\n",
              "      width: 32px;\n",
              "    }\n",
              "\n",
              "    .colab-df-convert:hover {\n",
              "      background-color: #E2EBFA;\n",
              "      box-shadow: 0px 1px 2px rgba(60, 64, 67, 0.3), 0px 1px 3px 1px rgba(60, 64, 67, 0.15);\n",
              "      fill: #174EA6;\n",
              "    }\n",
              "\n",
              "    [theme=dark] .colab-df-convert {\n",
              "      background-color: #3B4455;\n",
              "      fill: #D2E3FC;\n",
              "    }\n",
              "\n",
              "    [theme=dark] .colab-df-convert:hover {\n",
              "      background-color: #434B5C;\n",
              "      box-shadow: 0px 1px 3px 1px rgba(0, 0, 0, 0.15);\n",
              "      filter: drop-shadow(0px 1px 2px rgba(0, 0, 0, 0.3));\n",
              "      fill: #FFFFFF;\n",
              "    }\n",
              "  </style>\n",
              "\n",
              "      <script>\n",
              "        const buttonEl =\n",
              "          document.querySelector('#df-66c5f6c2-086b-4095-b2cc-0b2625a80e3a button.colab-df-convert');\n",
              "        buttonEl.style.display =\n",
              "          google.colab.kernel.accessAllowed ? 'block' : 'none';\n",
              "\n",
              "        async function convertToInteractive(key) {\n",
              "          const element = document.querySelector('#df-66c5f6c2-086b-4095-b2cc-0b2625a80e3a');\n",
              "          const dataTable =\n",
              "            await google.colab.kernel.invokeFunction('convertToInteractive',\n",
              "                                                     [key], {});\n",
              "          if (!dataTable) return;\n",
              "\n",
              "          const docLinkHtml = 'Like what you see? Visit the ' +\n",
              "            '<a target=\"_blank\" href=https://colab.research.google.com/notebooks/data_table.ipynb>data table notebook</a>'\n",
              "            + ' to learn more about interactive tables.';\n",
              "          element.innerHTML = '';\n",
              "          dataTable['output_type'] = 'display_data';\n",
              "          await google.colab.output.renderOutput(dataTable, element);\n",
              "          const docLink = document.createElement('div');\n",
              "          docLink.innerHTML = docLinkHtml;\n",
              "          element.appendChild(docLink);\n",
              "        }\n",
              "      </script>\n",
              "    </div>\n",
              "  </div>\n",
              "  "
            ]
          },
          "metadata": {},
          "execution_count": 21
        }
      ]
    },
    {
      "cell_type": "code",
      "source": [
        ""
      ],
      "metadata": {
        "id": "saZfKqCCrF5P"
      },
      "execution_count": null,
      "outputs": []
    },
    {
      "cell_type": "code",
      "source": [
        "# Preprocessing\n",
        "\n",
        "# The first preprocessing step is to divide the dataset into a feature set and corresponding labels. \n",
        "# We can store the feature sets into the X variable \n",
        "# and the series of corresponding labels in to the y variable\n",
        "\n",
        "X = df.drop('bank_account', 1)\n",
        "y = df['bank_account']"
      ],
      "metadata": {
        "colab": {
          "base_uri": "https://localhost:8080/"
        },
        "id": "aSpd8vLbrF2I",
        "outputId": "317b5f1b-44da-4a67-9069-7b00c976e042"
      },
      "execution_count": null,
      "outputs": [
        {
          "output_type": "stream",
          "name": "stderr",
          "text": [
            "/usr/local/lib/python3.7/dist-packages/ipykernel_launcher.py:7: FutureWarning: In a future version of pandas all arguments of DataFrame.drop except for the argument 'labels' will be keyword-only\n",
            "  import sys\n"
          ]
        }
      ]
    },
    {
      "cell_type": "markdown",
      "source": [
        "## Preprocessing\n",
        "### Creating the feature set (X) and labels (y)"
      ],
      "metadata": {
        "id": "JbGAPot11rVI"
      }
    },
    {
      "cell_type": "code",
      "source": [
        "X.shape"
      ],
      "metadata": {
        "colab": {
          "base_uri": "https://localhost:8080/"
        },
        "id": "8-s1J31prF0m",
        "outputId": "23afbd35-9de0-46e1-c5bc-0050f2aa1335"
      },
      "execution_count": null,
      "outputs": [
        {
          "output_type": "execute_result",
          "data": {
            "text/plain": [
              "(23524, 8)"
            ]
          },
          "metadata": {},
          "execution_count": 23
        }
      ]
    },
    {
      "cell_type": "code",
      "source": [
        "y.shape"
      ],
      "metadata": {
        "colab": {
          "base_uri": "https://localhost:8080/"
        },
        "id": "bnxqMbQUrFxw",
        "outputId": "7625c09f-c0d9-4375-bcbb-7ce3af8bad92"
      },
      "execution_count": null,
      "outputs": [
        {
          "output_type": "execute_result",
          "data": {
            "text/plain": [
              "(23524,)"
            ]
          },
          "metadata": {},
          "execution_count": 24
        }
      ]
    },
    {
      "cell_type": "code",
      "source": [
        "X.head()"
      ],
      "metadata": {
        "colab": {
          "base_uri": "https://localhost:8080/",
          "height": 270
        },
        "id": "sWbXf4EcV7Z0",
        "outputId": "ebcae52a-316b-452b-d463-c2cfbfdbc5f4"
      },
      "execution_count": null,
      "outputs": [
        {
          "output_type": "execute_result",
          "data": {
            "text/plain": [
              "   location_type  cellphone_access  household_size  age_of_respondent  \\\n",
              "0              1                 1               3                 24   \n",
              "1              1                 0               5                 70   \n",
              "2              0                 1               5                 26   \n",
              "3              1                 1               5                 34   \n",
              "4              0                 0               8                 26   \n",
              "\n",
              "   gender_of_respondent  relationship_with_head  marital_status  \\\n",
              "0                     0                       3               0   \n",
              "1                     0                       0               3   \n",
              "2                     1                       4               1   \n",
              "3                     0                       0               0   \n",
              "4                     1                       1               1   \n",
              "\n",
              "   education_level  \n",
              "0                2  \n",
              "1                0  \n",
              "2                3  \n",
              "3                1  \n",
              "4                1  "
            ],
            "text/html": [
              "\n",
              "  <div id=\"df-8b1b0e62-cda9-4fc9-b641-e9e43951dafe\">\n",
              "    <div class=\"colab-df-container\">\n",
              "      <div>\n",
              "<style scoped>\n",
              "    .dataframe tbody tr th:only-of-type {\n",
              "        vertical-align: middle;\n",
              "    }\n",
              "\n",
              "    .dataframe tbody tr th {\n",
              "        vertical-align: top;\n",
              "    }\n",
              "\n",
              "    .dataframe thead th {\n",
              "        text-align: right;\n",
              "    }\n",
              "</style>\n",
              "<table border=\"1\" class=\"dataframe\">\n",
              "  <thead>\n",
              "    <tr style=\"text-align: right;\">\n",
              "      <th></th>\n",
              "      <th>location_type</th>\n",
              "      <th>cellphone_access</th>\n",
              "      <th>household_size</th>\n",
              "      <th>age_of_respondent</th>\n",
              "      <th>gender_of_respondent</th>\n",
              "      <th>relationship_with_head</th>\n",
              "      <th>marital_status</th>\n",
              "      <th>education_level</th>\n",
              "    </tr>\n",
              "  </thead>\n",
              "  <tbody>\n",
              "    <tr>\n",
              "      <th>0</th>\n",
              "      <td>1</td>\n",
              "      <td>1</td>\n",
              "      <td>3</td>\n",
              "      <td>24</td>\n",
              "      <td>0</td>\n",
              "      <td>3</td>\n",
              "      <td>0</td>\n",
              "      <td>2</td>\n",
              "    </tr>\n",
              "    <tr>\n",
              "      <th>1</th>\n",
              "      <td>1</td>\n",
              "      <td>0</td>\n",
              "      <td>5</td>\n",
              "      <td>70</td>\n",
              "      <td>0</td>\n",
              "      <td>0</td>\n",
              "      <td>3</td>\n",
              "      <td>0</td>\n",
              "    </tr>\n",
              "    <tr>\n",
              "      <th>2</th>\n",
              "      <td>0</td>\n",
              "      <td>1</td>\n",
              "      <td>5</td>\n",
              "      <td>26</td>\n",
              "      <td>1</td>\n",
              "      <td>4</td>\n",
              "      <td>1</td>\n",
              "      <td>3</td>\n",
              "    </tr>\n",
              "    <tr>\n",
              "      <th>3</th>\n",
              "      <td>1</td>\n",
              "      <td>1</td>\n",
              "      <td>5</td>\n",
              "      <td>34</td>\n",
              "      <td>0</td>\n",
              "      <td>0</td>\n",
              "      <td>0</td>\n",
              "      <td>1</td>\n",
              "    </tr>\n",
              "    <tr>\n",
              "      <th>4</th>\n",
              "      <td>0</td>\n",
              "      <td>0</td>\n",
              "      <td>8</td>\n",
              "      <td>26</td>\n",
              "      <td>1</td>\n",
              "      <td>1</td>\n",
              "      <td>1</td>\n",
              "      <td>1</td>\n",
              "    </tr>\n",
              "  </tbody>\n",
              "</table>\n",
              "</div>\n",
              "      <button class=\"colab-df-convert\" onclick=\"convertToInteractive('df-8b1b0e62-cda9-4fc9-b641-e9e43951dafe')\"\n",
              "              title=\"Convert this dataframe to an interactive table.\"\n",
              "              style=\"display:none;\">\n",
              "        \n",
              "  <svg xmlns=\"http://www.w3.org/2000/svg\" height=\"24px\"viewBox=\"0 0 24 24\"\n",
              "       width=\"24px\">\n",
              "    <path d=\"M0 0h24v24H0V0z\" fill=\"none\"/>\n",
              "    <path d=\"M18.56 5.44l.94 2.06.94-2.06 2.06-.94-2.06-.94-.94-2.06-.94 2.06-2.06.94zm-11 1L8.5 8.5l.94-2.06 2.06-.94-2.06-.94L8.5 2.5l-.94 2.06-2.06.94zm10 10l.94 2.06.94-2.06 2.06-.94-2.06-.94-.94-2.06-.94 2.06-2.06.94z\"/><path d=\"M17.41 7.96l-1.37-1.37c-.4-.4-.92-.59-1.43-.59-.52 0-1.04.2-1.43.59L10.3 9.45l-7.72 7.72c-.78.78-.78 2.05 0 2.83L4 21.41c.39.39.9.59 1.41.59.51 0 1.02-.2 1.41-.59l7.78-7.78 2.81-2.81c.8-.78.8-2.07 0-2.86zM5.41 20L4 18.59l7.72-7.72 1.47 1.35L5.41 20z\"/>\n",
              "  </svg>\n",
              "      </button>\n",
              "      \n",
              "  <style>\n",
              "    .colab-df-container {\n",
              "      display:flex;\n",
              "      flex-wrap:wrap;\n",
              "      gap: 12px;\n",
              "    }\n",
              "\n",
              "    .colab-df-convert {\n",
              "      background-color: #E8F0FE;\n",
              "      border: none;\n",
              "      border-radius: 50%;\n",
              "      cursor: pointer;\n",
              "      display: none;\n",
              "      fill: #1967D2;\n",
              "      height: 32px;\n",
              "      padding: 0 0 0 0;\n",
              "      width: 32px;\n",
              "    }\n",
              "\n",
              "    .colab-df-convert:hover {\n",
              "      background-color: #E2EBFA;\n",
              "      box-shadow: 0px 1px 2px rgba(60, 64, 67, 0.3), 0px 1px 3px 1px rgba(60, 64, 67, 0.15);\n",
              "      fill: #174EA6;\n",
              "    }\n",
              "\n",
              "    [theme=dark] .colab-df-convert {\n",
              "      background-color: #3B4455;\n",
              "      fill: #D2E3FC;\n",
              "    }\n",
              "\n",
              "    [theme=dark] .colab-df-convert:hover {\n",
              "      background-color: #434B5C;\n",
              "      box-shadow: 0px 1px 3px 1px rgba(0, 0, 0, 0.15);\n",
              "      filter: drop-shadow(0px 1px 2px rgba(0, 0, 0, 0.3));\n",
              "      fill: #FFFFFF;\n",
              "    }\n",
              "  </style>\n",
              "\n",
              "      <script>\n",
              "        const buttonEl =\n",
              "          document.querySelector('#df-8b1b0e62-cda9-4fc9-b641-e9e43951dafe button.colab-df-convert');\n",
              "        buttonEl.style.display =\n",
              "          google.colab.kernel.accessAllowed ? 'block' : 'none';\n",
              "\n",
              "        async function convertToInteractive(key) {\n",
              "          const element = document.querySelector('#df-8b1b0e62-cda9-4fc9-b641-e9e43951dafe');\n",
              "          const dataTable =\n",
              "            await google.colab.kernel.invokeFunction('convertToInteractive',\n",
              "                                                     [key], {});\n",
              "          if (!dataTable) return;\n",
              "\n",
              "          const docLinkHtml = 'Like what you see? Visit the ' +\n",
              "            '<a target=\"_blank\" href=https://colab.research.google.com/notebooks/data_table.ipynb>data table notebook</a>'\n",
              "            + ' to learn more about interactive tables.';\n",
              "          element.innerHTML = '';\n",
              "          dataTable['output_type'] = 'display_data';\n",
              "          await google.colab.output.renderOutput(dataTable, element);\n",
              "          const docLink = document.createElement('div');\n",
              "          docLink.innerHTML = docLinkHtml;\n",
              "          element.appendChild(docLink);\n",
              "        }\n",
              "      </script>\n",
              "    </div>\n",
              "  </div>\n",
              "  "
            ]
          },
          "metadata": {},
          "execution_count": 25
        }
      ]
    },
    {
      "cell_type": "code",
      "source": [
        "y.head()"
      ],
      "metadata": {
        "colab": {
          "base_uri": "https://localhost:8080/"
        },
        "id": "Lz02QjHDWD2A",
        "outputId": "93609fab-79a4-4299-bfde-326950b187c8"
      },
      "execution_count": null,
      "outputs": [
        {
          "output_type": "execute_result",
          "data": {
            "text/plain": [
              "0    1\n",
              "1    0\n",
              "2    1\n",
              "3    0\n",
              "4    0\n",
              "Name: bank_account, dtype: int64"
            ]
          },
          "metadata": {},
          "execution_count": 26
        }
      ]
    },
    {
      "cell_type": "code",
      "source": [
        ""
      ],
      "metadata": {
        "id": "hOlItqFWXxQA"
      },
      "execution_count": null,
      "outputs": []
    },
    {
      "cell_type": "code",
      "source": [
        "# Splitting the dataset into the Training set and Test set\n",
        "# we shall define the size of the test data as 20% of entire dataset\n",
        "\n",
        "from sklearn.model_selection import train_test_split\n",
        "\n",
        "X_train, X_test, y_train, y_test = train_test_split(X, y, test_size=0.2, random_state=42)"
      ],
      "metadata": {
        "id": "58QKVmMPrFvp"
      },
      "execution_count": null,
      "outputs": []
    },
    {
      "cell_type": "code",
      "source": [
        "\n",
        "print(\"Before OverSampling, counts of label '1': {}\".format(sum(y_train == 1)))\n",
        "print(\"Before OverSampling, counts of label '0': {} \\n\".format(sum(y_train == 0)))\n",
        "  \n",
        "# import SMOTE module from imblearn library\n",
        "# pip install imblearn (if you don't have imblearn in your system)\n",
        "\n",
        "from imblearn.over_sampling import SMOTE\n",
        "sm = SMOTE(random_state = 2)\n",
        "X_train_res, y_train_res = sm.fit_resample(X_train, y_train.ravel())\n",
        "  \n",
        "print('After OverSampling, the shape of train_X: {}'.format(X_train_res.shape))\n",
        "print('After OverSampling, the shape of train_y: {} \\n'.format(y_train_res.shape))\n",
        "  \n",
        "print(\"After OverSampling, counts of label '1': {}\".format(sum(y_train_res == 1)))\n",
        "print(\"After OverSampling, counts of label '0': {}\".format(sum(y_train_res == 0)))"
      ],
      "metadata": {
        "colab": {
          "base_uri": "https://localhost:8080/"
        },
        "id": "kwdxWlRW2M1W",
        "outputId": "a9766466-9e43-4857-c1ce-8d74ef289c8b"
      },
      "execution_count": null,
      "outputs": [
        {
          "output_type": "stream",
          "name": "stdout",
          "text": [
            "Before OverSampling, counts of label '1': 2670\n",
            "Before OverSampling, counts of label '0': 16149 \n",
            "\n",
            "After OverSampling, the shape of train_X: (32298, 8)\n",
            "After OverSampling, the shape of train_y: (32298,) \n",
            "\n",
            "After OverSampling, counts of label '1': 16149\n",
            "After OverSampling, counts of label '0': 16149\n"
          ]
        }
      ]
    },
    {
      "cell_type": "code",
      "source": [
        "# Using the StandardScaler normalization to normalize our feature set\n",
        "\n",
        "from sklearn.preprocessing import StandardScaler\n",
        "\n",
        "sc = StandardScaler()\n",
        "X_train = sc.fit_transform(X_train)\n",
        "X_test = sc.transform(X_test)\n",
        "\n",
        "## Scaling the resampled training set\n",
        "X_train_res = sc.fit_transform(X_train_res)"
      ],
      "metadata": {
        "id": "6qRQ_rw-rFsw"
      },
      "execution_count": null,
      "outputs": []
    },
    {
      "cell_type": "markdown",
      "source": [
        "## Model Training\n",
        "### We will be comparing 3 models (Random Forest, Decision Tree and XGBoost)\n",
        "### We will also be comparing the accuracy against the imbalanced and balanced dataset"
      ],
      "metadata": {
        "id": "eTOWiWkHZbA8"
      }
    },
    {
      "cell_type": "code",
      "source": [
        "\n",
        "from sklearn.metrics import confusion_matrix, classification_report, accuracy_score\n",
        "from sklearn.ensemble import RandomForestClassifier\n",
        "from sklearn import tree\n",
        "import xgboost as xgb"
      ],
      "metadata": {
        "id": "CYvUK2_LZYyV"
      },
      "execution_count": null,
      "outputs": []
    },
    {
      "cell_type": "code",
      "source": [
        "## Helper function\n",
        "\n",
        "from sklearn.metrics import precision_recall_fscore_support\n",
        "\n",
        "y = np.random.randint(low=0, high=10, size=100)\n",
        "y_p = np.random.randint(low=0, high=10, size=100)\n",
        "\n",
        "def plot_classification_report(y_true, y_prd, title=\" \", figsize=(7, 7), ax=None):\n",
        "\n",
        "    plt.figure(figsize=figsize)\n",
        "    plt.title('Classification Report: {0}'.format(title))\n",
        "\n",
        "    xticks = ['precision', 'recall', 'f1-score', 'support']\n",
        "    yticks = list(np.unique(y_true))\n",
        "    yticks += ['avg']\n",
        "\n",
        "    rep = np.array(precision_recall_fscore_support(y_true, y_prd)).T\n",
        "    avg = np.mean(rep, axis=0)\n",
        "    avg[-1] = np.sum(rep[:, -1])\n",
        "\n",
        "    rep = np.insert(rep, rep.shape[0], avg, axis=0)\n",
        "    rep = np.round(rep, decimals = 2) \n",
        "\n",
        "    sns.heatmap(rep,\n",
        "                annot=True, \n",
        "                cbar=False, \n",
        "                cmap=\"Reds\", \n",
        "                square=True,\n",
        "                xticklabels=xticks, \n",
        "                yticklabels=yticks,\n",
        "                fmt='g',\n",
        "                ax=ax)"
      ],
      "metadata": {
        "id": "QNQxTAwHdUL7"
      },
      "execution_count": null,
      "outputs": []
    },
    {
      "cell_type": "markdown",
      "source": [
        "# Random Forest Classification"
      ],
      "metadata": {
        "id": "mOWRqN8Grym6"
      }
    },
    {
      "cell_type": "code",
      "source": [
        "rfc_classifier = RandomForestClassifier(max_depth=2, random_state=0)\n",
        "rfc_classifier.fit(X_train, y_train)\n",
        "\n",
        "# Predicting the Test set results\n",
        "rfc_pred = rfc_classifier.predict(X_test)"
      ],
      "metadata": {
        "id": "9cyyXyQTrsAS"
      },
      "execution_count": null,
      "outputs": []
    },
    {
      "cell_type": "code",
      "source": [
        "# Checking the accuracy\n",
        "\n",
        "cm_rfc = confusion_matrix(y_test, rfc_pred)\n",
        "print(cm_rfc)\n",
        "\n",
        "print('\\n Accuracy of Random Forest = {:.2f} \\n\\n'.format(accuracy_score(y_test, rfc_pred)))\n",
        "\n",
        "# print classification report\n",
        "print(classification_report(y_test, rfc_pred))"
      ],
      "metadata": {
        "colab": {
          "base_uri": "https://localhost:8080/"
        },
        "id": "qdK-PZI2A5nS",
        "outputId": "51c25fb0-dd61-434c-d08d-5f9e79d661a0"
      },
      "execution_count": null,
      "outputs": [
        {
          "output_type": "stream",
          "name": "stdout",
          "text": [
            "[[4063    0]\n",
            " [ 642    0]]\n",
            "\n",
            " Accuracy of Random Forest = 0.86 \n",
            "\n",
            "\n",
            "              precision    recall  f1-score   support\n",
            "\n",
            "           0       0.86      1.00      0.93      4063\n",
            "           1       0.00      0.00      0.00       642\n",
            "\n",
            "    accuracy                           0.86      4705\n",
            "   macro avg       0.43      0.50      0.46      4705\n",
            "weighted avg       0.75      0.86      0.80      4705\n",
            "\n"
          ]
        }
      ]
    },
    {
      "cell_type": "code",
      "source": [
        "plot_classification_report(y_test, rfc_pred,\"Random Forest\")"
      ],
      "metadata": {
        "colab": {
          "base_uri": "https://localhost:8080/",
          "height": 357
        },
        "id": "Klab8RDCdj9z",
        "outputId": "78a73cbe-cdfd-41b6-92cf-a44168d75cf6"
      },
      "execution_count": null,
      "outputs": [
        {
          "output_type": "display_data",
          "data": {
            "text/plain": [
              "<Figure size 504x504 with 1 Axes>"
            ],
            "image/png": "[encoded data removed]"
          },
          "metadata": {
            "needs_background": "light"
          }
        }
      ]
    },
    {
      "cell_type": "markdown",
      "source": [
        "### The accuracy is 86% but you will notice that recall and precision of the minority class is 0%.\n",
        "\n",
        "This proves that the model is more biased towards majority class; this means that this is not the best model.\n",
        "\n",
        "## Checking the accuracy using the balanced dataset.\n",
        "\n"
      ],
      "metadata": {
        "id": "UakVjMW_BY39"
      }
    },
    {
      "cell_type": "code",
      "source": [
        "rfc_classifier_res = RandomForestClassifier(max_depth=2, random_state=0)\n",
        "rfc_classifier_res.fit(X_train_res, y_train_res.ravel())\n",
        "\n",
        "# Predicting the Test set results\n",
        "rfc_pred_res = rfc_classifier_res.predict(X_test)"
      ],
      "metadata": {
        "id": "Pz2NjlM8_21l"
      },
      "execution_count": null,
      "outputs": []
    },
    {
      "cell_type": "code",
      "source": [
        "# Checking the accuracy\n",
        "\n",
        "cm_rfc_res = confusion_matrix(y_test, rfc_pred_res)\n",
        "print(cm_rfc_res)\n",
        "\n",
        "print('\\n Accuracy of Random Forest on resampled dataset = {:.2f} \\n'.format(accuracy_score(y_test, rfc_pred_res)))\n",
        "\n",
        "# print classification report\n",
        "print(classification_report(y_test, rfc_pred_res))"
      ],
      "metadata": {
        "colab": {
          "base_uri": "https://localhost:8080/"
        },
        "id": "xuJ8jY68BJA6",
        "outputId": "9a57b643-67f5-492d-f55c-a7cbc3cb6e9a"
      },
      "execution_count": null,
      "outputs": [
        {
          "output_type": "stream",
          "name": "stdout",
          "text": [
            "[[3312  751]\n",
            " [ 205  437]]\n",
            "\n",
            " Accuracy of Random Forest on resampled dataset = 0.80 \n",
            "\n",
            "              precision    recall  f1-score   support\n",
            "\n",
            "           0       0.94      0.82      0.87      4063\n",
            "           1       0.37      0.68      0.48       642\n",
            "\n",
            "    accuracy                           0.80      4705\n",
            "   macro avg       0.65      0.75      0.68      4705\n",
            "weighted avg       0.86      0.80      0.82      4705\n",
            "\n"
          ]
        }
      ]
    },
    {
      "cell_type": "code",
      "source": [
        "plot_classification_report(y_test, rfc_pred_res,\"Random Forest - Balanced Dataset\")"
      ],
      "metadata": {
        "colab": {
          "base_uri": "https://localhost:8080/",
          "height": 357
        },
        "id": "MiV_tEUahRch",
        "outputId": "ac1af541-3630-4fc9-e34a-c57c5be63f3e"
      },
      "execution_count": null,
      "outputs": [
        {
          "output_type": "display_data",
          "data": {
            "text/plain": [
              "<Figure size 504x504 with 1 Axes>"
            ],
            "image/png": "[encoded data removed]"
          },
          "metadata": {
            "needs_background": "light"
          }
        }
      ]
    },
    {
      "cell_type": "markdown",
      "source": [
        "### The accuracy has reduced to 80% as compared to previous model but the precision and recall value of minority class has also improved to 37% and 68% respectively. \n",
        "\n",
        "### This is a good model compared to the previous one. \n"
      ],
      "metadata": {
        "id": "VRi5ljMmCWtZ"
      }
    },
    {
      "cell_type": "markdown",
      "source": [
        "## Visualising the confusion matrix"
      ],
      "metadata": {
        "id": "Mrv8x9XmaTMD"
      }
    },
    {
      "cell_type": "code",
      "source": [
        "fig, ax=plt.subplots(2, 1, figsize=(10, 10))\n",
        "\n",
        "ax[0].set_title('Confusion Matrix')\n",
        "ax[1].set_title('Confusion Matrix for Imbalanced')\n",
        "\n",
        "ax[0].set_ylabel('Actual Values')\n",
        "ax[1].set_ylabel('Actual Values')\n",
        "\n",
        "ax[0].set_xlabel('Predicted Values')\n",
        "ax[1].set_xlabel('Predicted Values')\n",
        "\n",
        "sns.heatmap(cm_rfc, annot=True, cmap=\"Blues\", square=True, fmt='g', ax=ax[0])\n",
        "sns.heatmap(cm_rfc_res, annot=True, cmap=\"Reds\", square=True, fmt='g', ax=ax[1])\n",
        "\n",
        "plt.xlabel('Predicted Values')\n",
        "plt.ylabel('Actual Values')\n",
        "\n",
        "plt.show()"
      ],
      "metadata": {
        "colab": {
          "base_uri": "https://localhost:8080/",
          "height": 621
        },
        "id": "GtYSs1k0aGAX",
        "outputId": "b73a7789-a65e-4e8b-ee5c-81a7102e1823"
      },
      "execution_count": null,
      "outputs": [
        {
          "output_type": "display_data",
          "data": {
            "text/plain": [
              "<Figure size 720x720 with 4 Axes>"
            ],
            "image/png": "[encoded data removed]"
          },
          "metadata": {
            "needs_background": "light"
          }
        }
      ]
    },
    {
      "cell_type": "markdown",
      "source": [
        "## We will run the same process for Decision Tree and XGBoost"
      ],
      "metadata": {
        "id": "q2bneCHvDPvM"
      }
    },
    {
      "cell_type": "markdown",
      "source": [
        "# DecisionTree Classification"
      ],
      "metadata": {
        "id": "uB--0_GIsdPL"
      }
    },
    {
      "cell_type": "code",
      "source": [
        "dtc = tree.DecisionTreeClassifier(max_depth=3) \n",
        "dtc = dtc.fit(X_train, y_train)\n",
        "\n",
        "# Predicting the Test set results\n",
        "dtc_pred = dtc.predict(X_test)"
      ],
      "metadata": {
        "id": "PA3rtKq5rr5G"
      },
      "execution_count": null,
      "outputs": []
    },
    {
      "cell_type": "code",
      "source": [
        "cm_dtc = confusion_matrix(y_test, dtc_pred)\n",
        "print(cm_dtc)\n",
        "\n",
        "print('\\n Accuracy of DTC = {:.2f} \\n\\n'.format(accuracy_score(y_test, dtc_pred)))\n",
        "\n",
        "# print classification report\n",
        "print(classification_report(y_test, dtc_pred))"
      ],
      "metadata": {
        "colab": {
          "base_uri": "https://localhost:8080/"
        },
        "id": "FIjk_1oMrr3J",
        "outputId": "4359f614-1695-4217-dc09-a591cfad2b4a"
      },
      "execution_count": null,
      "outputs": [
        {
          "output_type": "stream",
          "name": "stdout",
          "text": [
            "[[3954  109]\n",
            " [ 447  195]]\n",
            "\n",
            " Accuracy of DTC = 0.88 \n",
            "\n",
            "\n",
            "              precision    recall  f1-score   support\n",
            "\n",
            "           0       0.90      0.97      0.93      4063\n",
            "           1       0.64      0.30      0.41       642\n",
            "\n",
            "    accuracy                           0.88      4705\n",
            "   macro avg       0.77      0.64      0.67      4705\n",
            "weighted avg       0.86      0.88      0.86      4705\n",
            "\n"
          ]
        }
      ]
    },
    {
      "cell_type": "code",
      "source": [
        "plot_classification_report(y_test, dtc_pred,\"DecisionTree - Imbalanced Dataset\")"
      ],
      "metadata": {
        "id": "ttc0-BNkiMkH",
        "colab": {
          "base_uri": "https://localhost:8080/",
          "height": 357
        },
        "outputId": "ee8c2002-f845-4a13-f081-bd6e3fc782f1"
      },
      "execution_count": 141,
      "outputs": [
        {
          "output_type": "display_data",
          "data": {
            "text/plain": [
              "<Figure size 504x504 with 1 Axes>"
            ],
            "image/png": "[encoded data removed]"
          },
          "metadata": {
            "needs_background": "light"
          }
        }
      ]
    },
    {
      "cell_type": "markdown",
      "source": [
        "### Checking the accuracy using the balanced dataset for Decision Tree"
      ],
      "metadata": {
        "id": "uQST7azEEWT0"
      }
    },
    {
      "cell_type": "code",
      "source": [
        "dtc_classifier_res = tree.DecisionTreeClassifier(max_depth=3) \n",
        "dtc_classifier_res = dtc.fit(X_train_res, y_train_res.ravel())\n",
        "\n",
        "# Predicting the Test set results\n",
        "dtc_pred_res = dtc_classifier_res.predict(X_test)"
      ],
      "metadata": {
        "id": "gSEBLKvKrrxd"
      },
      "execution_count": null,
      "outputs": []
    },
    {
      "cell_type": "code",
      "source": [
        "cm_dtc_res = confusion_matrix(y_test, dtc_pred_res)\n",
        "print(cm_dtc_res)\n",
        "\n",
        "print('\\n Accuracy of Decision Tree on resampled dataset = {:.2f} \\n\\n'.format(accuracy_score(y_test, dtc_pred_res)))\n",
        "\n",
        "# print classification report\n",
        "print(classification_report(y_test, dtc_pred_res))"
      ],
      "metadata": {
        "colab": {
          "base_uri": "https://localhost:8080/"
        },
        "id": "T6iuLQAaEfp3",
        "outputId": "87f63c92-ad3f-40f1-919b-b73541a9b7f9"
      },
      "execution_count": null,
      "outputs": [
        {
          "output_type": "stream",
          "name": "stdout",
          "text": [
            "[[2848 1215]\n",
            " [ 168  474]]\n",
            "\n",
            " Accuracy of Decision Tree on resampled dataset = 0.71 \n",
            "\n",
            "\n",
            "              precision    recall  f1-score   support\n",
            "\n",
            "           0       0.94      0.70      0.80      4063\n",
            "           1       0.28      0.74      0.41       642\n",
            "\n",
            "    accuracy                           0.71      4705\n",
            "   macro avg       0.61      0.72      0.61      4705\n",
            "weighted avg       0.85      0.71      0.75      4705\n",
            "\n"
          ]
        }
      ]
    },
    {
      "cell_type": "code",
      "source": [
        "plot_classification_report(y_test, dtc_pred_res,\"DecisionTree - Balanced Dataset\")"
      ],
      "metadata": {
        "colab": {
          "base_uri": "https://localhost:8080/",
          "height": 357
        },
        "id": "-SVBzwyEbjkl",
        "outputId": "9296c47f-f39d-44b4-a335-31a22dad5606"
      },
      "execution_count": 142,
      "outputs": [
        {
          "output_type": "display_data",
          "data": {
            "text/plain": [
              "<Figure size 504x504 with 1 Axes>"
            ],
            "image/png": "[encoded data removed]"
          },
          "metadata": {
            "needs_background": "light"
          }
        }
      ]
    },
    {
      "cell_type": "markdown",
      "source": [
        "## Visualising the Confusion matrix"
      ],
      "metadata": {
        "id": "EOfgrUdcZvma"
      }
    },
    {
      "cell_type": "code",
      "source": [
        "fig, ax=plt.subplots(2, 1, figsize=(10, 10))\n",
        "\n",
        "ax[0].set_title('Confusion Matrix')\n",
        "ax[1].set_title('Confusion Matrix for Imbalanced')\n",
        "\n",
        "ax[0].set_ylabel('Actual Values')\n",
        "ax[1].set_ylabel('Actual Values')\n",
        "\n",
        "ax[0].set_xlabel('Predicted Values')\n",
        "ax[1].set_xlabel('Predicted Values')\n",
        "\n",
        "sns.heatmap(cm_dtc, annot=True, cmap=\"Blues\", square=True, fmt='g', ax=ax[0])\n",
        "sns.heatmap(cm_dtc_res, annot=True, cmap=\"Reds\", square=True, fmt='g', ax=ax[1])\n",
        "\n",
        "plt.xlabel('Predicted Values')\n",
        "plt.ylabel('Actual Values')\n",
        "\n",
        "plt.show()"
      ],
      "metadata": {
        "colab": {
          "base_uri": "https://localhost:8080/",
          "height": 621
        },
        "id": "zF9wpeYoU-gV",
        "outputId": "7e531ea9-6759-4040-b839-e7ede37806bd"
      },
      "execution_count": null,
      "outputs": [
        {
          "output_type": "display_data",
          "data": {
            "text/plain": [
              "<Figure size 720x720 with 4 Axes>"
            ],
            "image/png": "[encoded data removed]"
          },
          "metadata": {
            "needs_background": "light"
          }
        }
      ]
    },
    {
      "cell_type": "markdown",
      "source": [
        "## Again, the accuracy has reduced to 71% as compared to previous model but the recall value of minority class has improved to 74%.\n",
        "\n",
        "## This is a good model compared to the previous one."
      ],
      "metadata": {
        "id": "eCQMGU3rE9wk"
      }
    },
    {
      "cell_type": "markdown",
      "source": [
        "# XGBoost"
      ],
      "metadata": {
        "id": "ogFUuYUSuLS5"
      }
    },
    {
      "cell_type": "code",
      "source": [
        "XGB = xgb.XGBClassifier()\n",
        "XGB.fit(X_train, y_train)\n",
        "\n",
        "# Predicting the Test set results\n",
        "xgb_pred = XGB.predict(X_test)"
      ],
      "metadata": {
        "id": "gSaNEI5irrq2"
      },
      "execution_count": null,
      "outputs": []
    },
    {
      "cell_type": "code",
      "source": [
        "cm_xgb = confusion_matrix(y_test, xgb_pred)\n",
        "print(cm_xgb)\n",
        "\n",
        "print('\\n Accuracy of XGB = {:.2f} \\n\\n'.format(accuracy_score(y_test, xgb_pred)))\n",
        "\n",
        "# print classification report\n",
        "print(classification_report(y_test, xgb_pred))"
      ],
      "metadata": {
        "colab": {
          "base_uri": "https://localhost:8080/"
        },
        "id": "08vpWFvVneTO",
        "outputId": "e1bde9df-bce4-457f-cc42-52120c9c766b"
      },
      "execution_count": null,
      "outputs": [
        {
          "output_type": "stream",
          "name": "stdout",
          "text": [
            "[[3948  115]\n",
            " [ 429  213]]\n",
            "\n",
            " Accuracy of XGB = 0.88 \n",
            "\n",
            "\n",
            "              precision    recall  f1-score   support\n",
            "\n",
            "           0       0.90      0.97      0.94      4063\n",
            "           1       0.65      0.33      0.44       642\n",
            "\n",
            "    accuracy                           0.88      4705\n",
            "   macro avg       0.78      0.65      0.69      4705\n",
            "weighted avg       0.87      0.88      0.87      4705\n",
            "\n"
          ]
        }
      ]
    },
    {
      "cell_type": "code",
      "source": [
        "plot_classification_report(y_test, xgb_pred,\"XGBoost - Imbalanced Dataset\")"
      ],
      "metadata": {
        "colab": {
          "base_uri": "https://localhost:8080/",
          "height": 357
        },
        "id": "w4XZhTTIjT7y",
        "outputId": "c1f92e4f-27c1-4a15-ddc6-5cbaf0790cab"
      },
      "execution_count": 143,
      "outputs": [
        {
          "output_type": "display_data",
          "data": {
            "text/plain": [
              "<Figure size 504x504 with 1 Axes>"
            ],
            "image/png": "[encoded data removed]"
          },
          "metadata": {
            "needs_background": "light"
          }
        }
      ]
    },
    {
      "cell_type": "markdown",
      "source": [
        "### Checking the accuracy using the balanced dataset for Decision Tree"
      ],
      "metadata": {
        "id": "UYELT3pFGUnV"
      }
    },
    {
      "cell_type": "code",
      "source": [
        "XGB_res = xgb.XGBClassifier()\n",
        "XGB_res.fit(X_train_res, y_train_res.ravel())\n",
        "\n",
        "# Predicting the Test set results\n",
        "xgb_pred_res = XGB_res.predict(X_test)"
      ],
      "metadata": {
        "id": "ISDVISSPneQl"
      },
      "execution_count": null,
      "outputs": []
    },
    {
      "cell_type": "code",
      "source": [
        "cm_xgb_res = confusion_matrix(y_test, xgb_pred_res)\n",
        "print(cm_xgb_res)\n",
        "\n",
        "print('\\n Accuracy of XGB = {:.2f} \\n\\n'.format(accuracy_score(y_test, xgb_pred_res)))\n",
        "\n",
        "# print classification report\n",
        "print(classification_report(y_test, xgb_pred_res))"
      ],
      "metadata": {
        "colab": {
          "base_uri": "https://localhost:8080/"
        },
        "id": "NS7YujxwGdm4",
        "outputId": "648d652e-60f0-4654-c818-c6152c1513ca"
      },
      "execution_count": null,
      "outputs": [
        {
          "output_type": "stream",
          "name": "stdout",
          "text": [
            "[[3119  944]\n",
            " [ 196  446]]\n",
            "\n",
            " Accuracy of XGB = 0.76 \n",
            "\n",
            "\n",
            "              precision    recall  f1-score   support\n",
            "\n",
            "           0       0.94      0.77      0.85      4063\n",
            "           1       0.32      0.69      0.44       642\n",
            "\n",
            "    accuracy                           0.76      4705\n",
            "   macro avg       0.63      0.73      0.64      4705\n",
            "weighted avg       0.86      0.76      0.79      4705\n",
            "\n"
          ]
        }
      ]
    },
    {
      "cell_type": "code",
      "source": [
        "plot_classification_report(y_test, xgb_pred_res,\"XGBoost - Balanced Dataset\")"
      ],
      "metadata": {
        "colab": {
          "base_uri": "https://localhost:8080/",
          "height": 357
        },
        "id": "UbHYKoVxjiQa",
        "outputId": "cd7145c4-678c-4ee7-ed4c-6872fc8dbc8f"
      },
      "execution_count": 144,
      "outputs": [
        {
          "output_type": "display_data",
          "data": {
            "text/plain": [
              "<Figure size 504x504 with 1 Axes>"
            ],
            "image/png": "[encoded data removed]"
          },
          "metadata": {
            "needs_background": "light"
          }
        }
      ]
    },
    {
      "cell_type": "markdown",
      "source": [
        "## Yet again, the accuracy has reduced to 76% as compared to previous model but the recall value of minority class has improved to 69%.\n",
        "\n",
        "## This is a good model compared to the previous one."
      ],
      "metadata": {
        "id": "4zsE7M86GxYU"
      }
    },
    {
      "cell_type": "markdown",
      "source": [
        "## Visualizing the confusion matrix"
      ],
      "metadata": {
        "id": "RsmCcej1afp8"
      }
    },
    {
      "cell_type": "code",
      "source": [
        "fig, ax=plt.subplots(2, 1, figsize=(10, 10))\n",
        "\n",
        "ax[0].set_title('Confusion Matrix')\n",
        "ax[1].set_title('Confusion Matrix for Imbalanced')\n",
        "\n",
        "ax[0].set_ylabel('Actual Values')\n",
        "ax[1].set_ylabel('Actual Values')\n",
        "\n",
        "ax[0].set_xlabel('Predicted Values')\n",
        "ax[1].set_xlabel('Predicted Values')\n",
        "\n",
        "sns.heatmap(cm_xgb, annot=True, cmap=\"Blues\", square=True, fmt='g', ax=ax[0])\n",
        "sns.heatmap(cm_xgb_res, annot=True, cmap=\"Reds\", square=True, fmt='g', ax=ax[1])\n",
        "\n",
        "plt.xlabel('Predicted Values')\n",
        "plt.ylabel('Actual Values')\n",
        "\n",
        "plt.show()"
      ],
      "metadata": {
        "colab": {
          "base_uri": "https://localhost:8080/",
          "height": 621
        },
        "id": "eM6sSE-QabNT",
        "outputId": "1949c2a8-10a3-4922-c2da-049531900bd7"
      },
      "execution_count": null,
      "outputs": [
        {
          "output_type": "display_data",
          "data": {
            "text/plain": [
              "<Figure size 720x720 with 4 Axes>"
            ],
            "image/png": "[encoded data removed]"
          },
          "metadata": {
            "needs_background": "light"
          }
        }
      ]
    },
    {
      "cell_type": "markdown",
      "source": [
        "## Side by side comparision of the models"
      ],
      "metadata": {
        "id": "Tw1h9xjmJ8kP"
      }
    },
    {
      "cell_type": "code",
      "source": [
        "print(\"Models accuracies on imbalanced dataset.\")\n",
        "print(\"*\" * 40)\n",
        "\n",
        "print('\\nRandom Forest = {:.2f} \\n'.format(accuracy_score(y_test, rfc_pred)))\n",
        "print('Decision Tree = {:.2f} \\n'.format(accuracy_score(y_test, dtc_pred)))\n",
        "print('XGBoost = {:.2f} \\n'.format(accuracy_score(y_test, xgb_pred)))"
      ],
      "metadata": {
        "colab": {
          "base_uri": "https://localhost:8080/"
        },
        "id": "rnvu-80WG5MS",
        "outputId": "0b51a253-bbde-4ddf-e8b1-d2ae6d961731"
      },
      "execution_count": null,
      "outputs": [
        {
          "output_type": "stream",
          "name": "stdout",
          "text": [
            "Models accuracies on imbalanced dataset.\n",
            "****************************************\n",
            "\n",
            "Random Forest = 0.86 \n",
            "\n",
            "Decision Tree = 0.88 \n",
            "\n",
            "XGBoost = 0.88 \n",
            "\n"
          ]
        }
      ]
    },
    {
      "cell_type": "code",
      "source": [
        "print(\"Models accuracies on balanced dataset.\")\n",
        "print(\"*\" * 40)\n",
        "\n",
        "print('\\nRandom Forest = {:.2f} \\n'.format(accuracy_score(y_test, rfc_pred_res)))\n",
        "print('Decision Tree = {:.2f} \\n'.format(accuracy_score(y_test, dtc_pred_res)))\n",
        "print('XGBoost = {:.2f} \\n'.format(accuracy_score(y_test, xgb_pred_res)))"
      ],
      "metadata": {
        "colab": {
          "base_uri": "https://localhost:8080/"
        },
        "id": "Ab3B03oxG5JZ",
        "outputId": "b5324f3e-e612-4378-b27f-3fddead1c231"
      },
      "execution_count": null,
      "outputs": [
        {
          "output_type": "stream",
          "name": "stdout",
          "text": [
            "Models accuracies on balanced dataset.\n",
            "****************************************\n",
            "\n",
            "Random Forest = 0.80 \n",
            "\n",
            "Decision Tree = 0.71 \n",
            "\n",
            "XGBoost = 0.76 \n",
            "\n"
          ]
        }
      ]
    },
    {
      "cell_type": "markdown",
      "source": [
        "View on [Medium](https://medium.com/@ajosegun_/financial-inclusion-in-east-africa-using-machine-learning-to-predict-which-individuals-are-most-be1d0a84b0ee)"
      ],
      "metadata": {
        "id": "kX8abBEAN8xt"
      }
    }
  ]
}